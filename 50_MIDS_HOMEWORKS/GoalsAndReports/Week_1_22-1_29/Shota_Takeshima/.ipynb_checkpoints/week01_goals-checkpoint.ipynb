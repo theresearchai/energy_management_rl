{
 "cells": [
  {
   "cell_type": "markdown",
   "metadata": {},
   "source": [
    "# Goals: week 1 1/22 ~ 1/29\n",
    "\n",
    "Shota Takeshima\n",
    "\n",
    "In our storyboad, the current theme is corresponding to **Theme 1.3**.\n",
    "\n",
    "> We will start implementing algorithms into city-learn or different simulators and evaluate the performance for each algorithms. \n",
    "\n",
    "During our winter break, we noticed that when we use reinforcement learning(RI) on City Learn, it needs relatively much data (about over 8-year simulation) to get an optimal energy management policy. So, in the actual adoption of this RI, it is not practical to wait several years to get the policy. Hence, now we are trying to take advantage of meta-learning. Using multiple data from other tasks(different regions, buildings, and climates), we can, in advance, averagely optimize RI policy (meta-learning) and, later, adjust the policy for the target environment for a short time.\n",
    "\n",
    "Hence, the current tasks I should do are:\n",
    "1. to learn meta-learning itself using [UCBerkley's lecture videoes](https://www.youtube.com/watch?v=mftNApIM1Yc&list=PL_iWQOsE6TfURIIhCrlt-wj9ByIVpbfGc&index=97) (~1/25)\n",
    "2. to get familiar with the meta-learing implementation with [garage](https://github.com/rlworkgroup/garage) that includes multiple RI methods. (~1/29)\n",
    "3. to plan how to implement meta-reinforcement learning using garage and City Learn Simulator. (~1/29)\n",
    "    * Also to define what other tasks are."
   ]
  }
 ],
 "metadata": {
  "kernelspec": {
   "display_name": "Python 3",
   "language": "python",
   "name": "python3"
  },
  "language_info": {
   "codemirror_mode": {
    "name": "ipython",
    "version": 3
   },
   "file_extension": ".py",
   "mimetype": "text/x-python",
   "name": "python",
   "nbconvert_exporter": "python",
   "pygments_lexer": "ipython3",
   "version": "3.7.5"
  }
 },
 "nbformat": 4,
 "nbformat_minor": 4
}

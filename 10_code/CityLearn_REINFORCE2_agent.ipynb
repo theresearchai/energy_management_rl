{
  "nbformat": 4,
  "nbformat_minor": 0,
  "metadata": {
    "colab": {
      "name": "CityLearn_REINFORCE2_agent.ipynb",
      "provenance": [],
      "collapsed_sections": [],
      "toc_visible": true
    },
    "kernelspec": {
      "name": "python3",
      "display_name": "Python 3"
    },
    "accelerator": "GPU"
  },
  "cells": [
    {
      "cell_type": "markdown",
      "metadata": {
        "id": "S_OWi-NBKDBU"
      },
      "source": [
        "# CityLearn REINFORCE agent\n",
        "Name: Shota Takeshima"
      ]
    },
    {
      "cell_type": "markdown",
      "metadata": {
        "id": "7xXcoRQaXvCz"
      },
      "source": [
        "## Installation: CityLearn\n",
        "\n",
        "* Temporally, I put CityLearn codes in my private git repository to test it. \n",
        "* After some progress is confirmed, I'll push the modified code to our team repository."
      ]
    },
    {
      "cell_type": "code",
      "metadata": {
        "colab": {
          "base_uri": "https://localhost:8080/"
        },
        "id": "edOW6fSdX_g9",
        "outputId": "0d112062-29d3-4a67-f13b-89ab0f0ab060"
      },
      "source": [
        "!rm -rf ./CityLearn_garage/\n",
        "!git clone https://github.com/shttksm/CityLearn_garage.git"
      ],
      "execution_count": null,
      "outputs": [
        {
          "output_type": "stream",
          "text": [
            "Cloning into 'CityLearn_garage'...\n",
            "remote: Enumerating objects: 122, done.\u001b[K\n",
            "remote: Counting objects: 100% (122/122), done.\u001b[K\n",
            "remote: Compressing objects: 100% (102/102), done.\u001b[K\n",
            "remote: Total 122 (delta 27), reused 111 (delta 19), pack-reused 0\u001b[K\n",
            "Receiving objects: 100% (122/122), 11.92 MiB | 20.14 MiB/s, done.\n",
            "Resolving deltas: 100% (27/27), done.\n"
          ],
          "name": "stdout"
        }
      ]
    },
    {
      "cell_type": "markdown",
      "metadata": {
        "id": "3QQZwH9x2Y0w"
      },
      "source": [
        "## Confirm the baseline multiple agent, RL_Agents_Coord\n",
        "* RL_Agents_Coord is in `CityLearn_garage/agent.py`. Each building has itw own SAC agent and this class manages such SAC agents."
      ]
    },
    {
      "cell_type": "code",
      "metadata": {
        "colab": {
          "base_uri": "https://localhost:8080/"
        },
        "id": "JpITDUjVavZE",
        "outputId": "9343414f-14e2-4d9a-bbd5-9d724144b19f"
      },
      "source": [
        "!grep RL_Agents_Coord CityLearn_garage/agent.py"
      ],
      "execution_count": null,
      "outputs": [
        {
          "output_type": "stream",
          "text": [
            "class RL_Agents_Coord:\n"
          ],
          "name": "stdout"
        }
      ]
    },
    {
      "cell_type": "markdown",
      "metadata": {
        "id": "FAf3qqa2bO-v"
      },
      "source": [
        "### Simulation environment"
      ]
    },
    {
      "cell_type": "code",
      "metadata": {
        "id": "f-FoGj4CbdIG"
      },
      "source": [
        "# Loading libraries\n",
        "import sys\n",
        "sys.path.append(\"./CityLearn_garage\")\n",
        "\n",
        "from citylearn import CityLearn\n",
        "from reward_function import reward_function_ma\n",
        "import matplotlib.pyplot as plt\n",
        "from pathlib import Path\n",
        "import numpy as np\n",
        "from agent import RL_Agents_Coord\n",
        "\n",
        "import os\n",
        "import gym\n",
        "import numpy as np\n",
        "#from stable_baselines3 import SAC\n",
        "#from stable_baselines3.sac.policies import MlpPolicy as MlpPolicy_SAC\n",
        "#from stable_baselines3.common.callbacks import BaseCallback\n",
        "import matplotlib.pyplot as plt\n",
        "from pathlib import Path\n",
        "import time\n",
        "\n",
        "import pandas as pd\n",
        "import seaborn as sns\n",
        "\n",
        "import pickle\n",
        "import copy"
      ],
      "execution_count": null,
      "outputs": []
    },
    {
      "cell_type": "code",
      "metadata": {
        "id": "LPMFTC5icU0H"
      },
      "source": [
        "import warnings\n",
        "warnings.filterwarnings(\"ignore\")"
      ],
      "execution_count": null,
      "outputs": []
    },
    {
      "cell_type": "code",
      "metadata": {
        "id": "ob8ccMUiawB3"
      },
      "source": [
        "def get_env(climate_zone):\n",
        "  # Load environment\n",
        "  data_path = Path(\"./CityLearn_garage/data/Climate_Zone_\"+str(climate_zone))\n",
        "  building_attributes = data_path / 'building_attributes.json'\n",
        "  weather_file = data_path / 'weather_data.csv'\n",
        "  solar_profile = data_path / 'solar_generation_1kW.csv'\n",
        "  building_state_actions = './CityLearn_garage/buildings_state_action_space.json'\n",
        "  # building_ids = [\"Building_1\",\"Building_2\",\"Building_3\",\"Building_4\",\"Building_5\",\"Building_6\",\"Building_7\",\"Building_8\",\"Building_9\"]\n",
        "  building_ids = [\"Building_1\"] # Changed here. From 9 buildings to single building\n",
        "  objective_function = ['ramping','1-load_factor','average_daily_peak','peak_demand','net_electricity_consumption']\n",
        "\n",
        "  # Contain the lower and upper bounds of the states and actions, to be provided to the agent to normalize the variables between 0 and 1.\n",
        "  # Can be obtained using observations_spaces[i].low or .high\n",
        "  env = CityLearn(data_path, \n",
        "                  building_attributes, \n",
        "                  weather_file, \n",
        "                  solar_profile, \n",
        "                  building_ids, \n",
        "                  buildings_states_actions = building_state_actions, \n",
        "                  cost_function = objective_function, \n",
        "                  verbose = 1, \n",
        "                  simulation_period=(0,8760-1), \n",
        "                  central_agent=False)\n",
        "  # Provides information on Building type, Climate Zone, Annual DHW demand, Annual Cooling Demand, Annual Electricity Demand, Solar Capacity, and correllations among buildings\n",
        "  building_info = env.get_building_information()  \n",
        "  observations_spaces, actions_spaces = env.get_state_action_spaces()\n",
        "\n",
        "  return env, building_ids, building_state_actions, building_info, observations_spaces, actions_spaces"
      ],
      "execution_count": null,
      "outputs": []
    },
    {
      "cell_type": "code",
      "metadata": {
        "id": "RUYuMEnAbOHp"
      },
      "source": [
        "env, building_ids, building_state_actions, building_info, observations_spaces, actions_spaces = get_env(2)"
      ],
      "execution_count": null,
      "outputs": []
    },
    {
      "cell_type": "code",
      "metadata": {
        "colab": {
          "base_uri": "https://localhost:8080/"
        },
        "id": "oDyZF_4bbXky",
        "outputId": "c8a46006-f585-4726-93ca-663554c90ef3"
      },
      "source": [
        "observations_spaces"
      ],
      "execution_count": null,
      "outputs": [
        {
          "output_type": "execute_result",
          "data": {
            "text/plain": [
              "[Box(-9.600000381469727, 1090.7900390625, (26,), float32)]"
            ]
          },
          "metadata": {
            "tags": []
          },
          "execution_count": 7
        }
      ]
    },
    {
      "cell_type": "code",
      "metadata": {
        "colab": {
          "base_uri": "https://localhost:8080/"
        },
        "id": "xIqsgws-buw7",
        "outputId": "8a581aa7-7ad2-49e6-d9cf-55f49de24698"
      },
      "source": [
        "actions_spaces"
      ],
      "execution_count": null,
      "outputs": [
        {
          "output_type": "execute_result",
          "data": {
            "text/plain": [
              "[Box(-0.5, 0.5, (2,), float32)]"
            ]
          },
          "metadata": {
            "tags": []
          },
          "execution_count": 8
        }
      ]
    },
    {
      "cell_type": "markdown",
      "metadata": {
        "id": "3EVUcfAqbvoX"
      },
      "source": [
        "### Train a instance of RI_Agents_Coord\n",
        "* First in first, I confirm wether the original multiple agents works correctly."
      ]
    },
    {
      "cell_type": "code",
      "metadata": {
        "id": "aocmH24bb21Q"
      },
      "source": [
        "# Hyperparameters\n",
        "bs = 256\n",
        "tau = 0.005\n",
        "gamma = 0.99\n",
        "lr = 0.0003\n",
        "hid = [256,256]\n",
        "\n",
        "n_episodes = 12"
      ],
      "execution_count": null,
      "outputs": []
    },
    {
      "cell_type": "code",
      "metadata": {
        "id": "O7N1oIbob40n"
      },
      "source": [
        "# Instantiating the control agent(s)\n",
        "agents = RL_Agents_Coord(building_ids, \n",
        "                         building_state_actions, \n",
        "                         building_info, \n",
        "                         observations_spaces, \n",
        "                         actions_spaces, \n",
        "                         discount = gamma, \n",
        "                         batch_size = bs, \n",
        "                         replay_buffer_capacity = 1e5, \n",
        "                         regression_buffer_capacity = 12*8760, \n",
        "                         tau=tau, \n",
        "                         lr=lr, \n",
        "                         hidden_dim=hid, \n",
        "                         start_training=8760*3, \n",
        "                         exploration_period = 8760*3+1,  \n",
        "                         start_regression=8760, \n",
        "                         information_sharing = False, \n",
        "                         pca_compression = .95, \n",
        "                         action_scaling_coef=0.5, \n",
        "                         reward_scaling = 5., \n",
        "                         update_per_step = 1, \n",
        "                         iterations_as = 2)"
      ],
      "execution_count": null,
      "outputs": []
    },
    {
      "cell_type": "markdown",
      "metadata": {
        "id": "KPtvG4TUR68I"
      },
      "source": [
        "**You can skip here**. This cord just confirming the original agents."
      ]
    },
    {
      "cell_type": "code",
      "metadata": {
        "colab": {
          "base_uri": "https://localhost:8080/",
          "height": 626
        },
        "id": "8kBA0CDMb7KT",
        "outputId": "78d5d4b3-4f72-4589-8bc1-0e8c9a00383b"
      },
      "source": [
        "cost_by_epoch = []\n",
        "action_hist = []\n",
        "# The number of episodes can be replaces by a stopping criterion (i.e. convergence of the average reward)\n",
        "start = time.time()\n",
        "for e in range(n_episodes): \n",
        "    is_evaluating = (e > 7) # Evaluate deterministic policy after 7 epochs\n",
        "    rewards = []\n",
        "    state = env.reset()\n",
        "    done = False\n",
        "\n",
        "    j = 0\n",
        "    action, coordination_vars = agents.select_action(state, deterministic=is_evaluating)   \n",
        "    action_hist.append(action) \n",
        "    while not done:\n",
        "        next_state, reward, done, _ = env.step(action)\n",
        "        action_next, coordination_vars_next = agents.select_action(next_state, deterministic=is_evaluating)\n",
        "        agents.add_to_buffer(state, action, reward, next_state, done, coordination_vars, coordination_vars_next)\n",
        "        action_hist.append(action_next)\n",
        "        state = next_state\n",
        "        coordination_vars = coordination_vars_next\n",
        "        action = action_next\n",
        "\n",
        "    cost = env.cost()\n",
        "    cost_by_epoch.append(cost)\n",
        "    print('Loss -', cost, 'Simulation time (min) -',(time.time()-start)/60.0)"
      ],
      "execution_count": null,
      "outputs": [
        {
          "output_type": "stream",
          "text": [
            "Cumulated reward: -1673868760.8193188\n",
            "Cost score: {'ramping': 1.776153, '1-load_factor': 1.0796991562924123, 'average_daily_peak': 1.2237937, 'peak_demand': 1.1520804, 'net_electricity_consumption': 1.0314388, 'total': 1.2526330227868028}\n",
            "Loss - {'ramping': 1.776153, '1-load_factor': 1.0796991562924123, 'average_daily_peak': 1.2237937, 'peak_demand': 1.1520804, 'net_electricity_consumption': 1.0314388, 'total': 1.2526330227868028} Simulation time (min) - 0.05038893620173136\n",
            "Cumulated reward: -1659484464.4957087\n",
            "Cost score: {'ramping': 1.7695692, '1-load_factor': 1.0830602986784124, 'average_daily_peak': 1.2179848, 'peak_demand': 1.155436, 'net_electricity_consumption': 1.0302082, 'total': 1.2512517043584852}\n",
            "Loss - {'ramping': 1.7695692, '1-load_factor': 1.0830602986784124, 'average_daily_peak': 1.2179848, 'peak_demand': 1.155436, 'net_electricity_consumption': 1.0302082, 'total': 1.2512517043584852} Simulation time (min) - 0.12334486643473307\n",
            "Cumulated reward: -1660307432.0092876\n",
            "Cost score: {'ramping': 1.760957, '1-load_factor': 1.0881737901652442, 'average_daily_peak': 1.2182944, 'peak_demand': 1.1320208, 'net_electricity_consumption': 1.0309081, 'total': 1.2460708227532027}\n",
            "Loss - {'ramping': 1.760957, '1-load_factor': 1.0881737901652442, 'average_daily_peak': 1.2182944, 'peak_demand': 1.1320208, 'net_electricity_consumption': 1.0309081, 'total': 1.2460708227532027} Simulation time (min) - 0.2802433967590332\n",
            "Cumulated reward: -1358757319.6205413\n",
            "Cost score: {'ramping': 1.2543387, '1-load_factor': 1.028193797570209, 'average_daily_peak': 1.0739751, 'peak_demand': 1.1246986, 'net_electricity_consumption': 1.0124288, 'total': 1.0987270049058875}\n",
            "Loss - {'ramping': 1.2543387, '1-load_factor': 1.028193797570209, 'average_daily_peak': 1.0739751, 'peak_demand': 1.1246986, 'net_electricity_consumption': 1.0124288, 'total': 1.0987270049058875} Simulation time (min) - 2.3210259874661765\n",
            "Cumulated reward: -1163659251.479406\n",
            "Cost score: {'ramping': 1.3403406, '1-load_factor': 1.0242916209689956, 'average_daily_peak': 1.0423335, 'peak_demand': 1.0695517, 'net_electricity_consumption': 1.0008073, 'total': 1.0954649421213503}\n",
            "Loss - {'ramping': 1.3403406, '1-load_factor': 1.0242916209689956, 'average_daily_peak': 1.0423335, 'peak_demand': 1.0695517, 'net_electricity_consumption': 1.0008073, 'total': 1.0954649421213503} Simulation time (min) - 4.345502980550131\n"
          ],
          "name": "stdout"
        },
        {
          "output_type": "error",
          "ename": "KeyboardInterrupt",
          "evalue": "ignored",
          "traceback": [
            "\u001b[0;31m---------------------------------------------------------------------------\u001b[0m",
            "\u001b[0;31mKeyboardInterrupt\u001b[0m                         Traceback (most recent call last)",
            "\u001b[0;32m<ipython-input-11-b06d95e9ebdd>\u001b[0m in \u001b[0;36m<module>\u001b[0;34m()\u001b[0m\n\u001b[1;32m     15\u001b[0m         \u001b[0mnext_state\u001b[0m\u001b[0;34m,\u001b[0m \u001b[0mreward\u001b[0m\u001b[0;34m,\u001b[0m \u001b[0mdone\u001b[0m\u001b[0;34m,\u001b[0m \u001b[0m_\u001b[0m \u001b[0;34m=\u001b[0m \u001b[0menv\u001b[0m\u001b[0;34m.\u001b[0m\u001b[0mstep\u001b[0m\u001b[0;34m(\u001b[0m\u001b[0maction\u001b[0m\u001b[0;34m)\u001b[0m\u001b[0;34m\u001b[0m\u001b[0;34m\u001b[0m\u001b[0m\n\u001b[1;32m     16\u001b[0m         \u001b[0maction_next\u001b[0m\u001b[0;34m,\u001b[0m \u001b[0mcoordination_vars_next\u001b[0m \u001b[0;34m=\u001b[0m \u001b[0magents\u001b[0m\u001b[0;34m.\u001b[0m\u001b[0mselect_action\u001b[0m\u001b[0;34m(\u001b[0m\u001b[0mnext_state\u001b[0m\u001b[0;34m,\u001b[0m \u001b[0mdeterministic\u001b[0m\u001b[0;34m=\u001b[0m\u001b[0mis_evaluating\u001b[0m\u001b[0;34m)\u001b[0m\u001b[0;34m\u001b[0m\u001b[0;34m\u001b[0m\u001b[0m\n\u001b[0;32m---> 17\u001b[0;31m         \u001b[0magents\u001b[0m\u001b[0;34m.\u001b[0m\u001b[0madd_to_buffer\u001b[0m\u001b[0;34m(\u001b[0m\u001b[0mstate\u001b[0m\u001b[0;34m,\u001b[0m \u001b[0maction\u001b[0m\u001b[0;34m,\u001b[0m \u001b[0mreward\u001b[0m\u001b[0;34m,\u001b[0m \u001b[0mnext_state\u001b[0m\u001b[0;34m,\u001b[0m \u001b[0mdone\u001b[0m\u001b[0;34m,\u001b[0m \u001b[0mcoordination_vars\u001b[0m\u001b[0;34m,\u001b[0m \u001b[0mcoordination_vars_next\u001b[0m\u001b[0;34m)\u001b[0m\u001b[0;34m\u001b[0m\u001b[0;34m\u001b[0m\u001b[0m\n\u001b[0m\u001b[1;32m     18\u001b[0m         \u001b[0maction_hist\u001b[0m\u001b[0;34m.\u001b[0m\u001b[0mappend\u001b[0m\u001b[0;34m(\u001b[0m\u001b[0maction_next\u001b[0m\u001b[0;34m)\u001b[0m\u001b[0;34m\u001b[0m\u001b[0;34m\u001b[0m\u001b[0m\n\u001b[1;32m     19\u001b[0m         \u001b[0mstate\u001b[0m \u001b[0;34m=\u001b[0m \u001b[0mnext_state\u001b[0m\u001b[0;34m\u001b[0m\u001b[0;34m\u001b[0m\u001b[0m\n",
            "\u001b[0;32m/content/CityLearn_garage/agent.py\u001b[0m in \u001b[0;36madd_to_buffer\u001b[0;34m(self, states, actions, rewards, next_states, done, coordination_vars, coordination_vars_next)\u001b[0m\n\u001b[1;32m    494\u001b[0m                     \u001b[0;32mfor\u001b[0m \u001b[0mtarget_param\u001b[0m\u001b[0;34m,\u001b[0m \u001b[0mparam\u001b[0m \u001b[0;32min\u001b[0m \u001b[0mzip\u001b[0m\u001b[0;34m(\u001b[0m\u001b[0mself\u001b[0m\u001b[0;34m.\u001b[0m\u001b[0mtarget_soft_q_net1\u001b[0m\u001b[0;34m[\u001b[0m\u001b[0muid\u001b[0m\u001b[0;34m]\u001b[0m\u001b[0;34m.\u001b[0m\u001b[0mparameters\u001b[0m\u001b[0;34m(\u001b[0m\u001b[0;34m)\u001b[0m\u001b[0;34m,\u001b[0m \u001b[0mself\u001b[0m\u001b[0;34m.\u001b[0m\u001b[0msoft_q_net1\u001b[0m\u001b[0;34m[\u001b[0m\u001b[0muid\u001b[0m\u001b[0;34m]\u001b[0m\u001b[0;34m.\u001b[0m\u001b[0mparameters\u001b[0m\u001b[0;34m(\u001b[0m\u001b[0;34m)\u001b[0m\u001b[0;34m)\u001b[0m\u001b[0;34m:\u001b[0m\u001b[0;34m\u001b[0m\u001b[0;34m\u001b[0m\u001b[0m\n\u001b[1;32m    495\u001b[0m                         target_param.data.copy_(\n\u001b[0;32m--> 496\u001b[0;31m                             \u001b[0mtarget_param\u001b[0m\u001b[0;34m.\u001b[0m\u001b[0mdata\u001b[0m \u001b[0;34m*\u001b[0m \u001b[0;34m(\u001b[0m\u001b[0;36m1.0\u001b[0m \u001b[0;34m-\u001b[0m \u001b[0mself\u001b[0m\u001b[0;34m.\u001b[0m\u001b[0mtau\u001b[0m\u001b[0;34m)\u001b[0m \u001b[0;34m+\u001b[0m \u001b[0mparam\u001b[0m\u001b[0;34m.\u001b[0m\u001b[0mdata\u001b[0m \u001b[0;34m*\u001b[0m \u001b[0mself\u001b[0m\u001b[0;34m.\u001b[0m\u001b[0mtau\u001b[0m\u001b[0;34m\u001b[0m\u001b[0;34m\u001b[0m\u001b[0m\n\u001b[0m\u001b[1;32m    497\u001b[0m                         )\n\u001b[1;32m    498\u001b[0m \u001b[0;34m\u001b[0m\u001b[0m\n",
            "\u001b[0;31mKeyboardInterrupt\u001b[0m: "
          ]
        }
      ]
    },
    {
      "cell_type": "code",
      "metadata": {
        "id": "-JDZkyhh97vP"
      },
      "source": [
        "pd.DataFrame(map(lambda x: x[0], action_hist), columns=[\"cooling_storage\", \"dhw_storage\"])[-8760:-1][\"cooling_storage\"].plot()"
      ],
      "execution_count": null,
      "outputs": []
    },
    {
      "cell_type": "code",
      "metadata": {
        "id": "1KxIponHR_om"
      },
      "source": [
        "ax = pd.DataFrame(cost_by_epoch)[[\"total\"]].plot()\n",
        "cz = env.data_path.name\n",
        "bids = env.building_ids\n",
        "plt.title(f\"Training Curve of SAC multiple-agents (but using only one building)\\n {cz}:{bids}\")\n",
        "plt.xlabel(\"Epoch (1year = 8760hours:timesteps)\")\n",
        "plt.ylabel(\"Total Cost\")\n",
        "pass"
      ],
      "execution_count": null,
      "outputs": []
    },
    {
      "cell_type": "markdown",
      "metadata": {
        "id": "Ldyfi_TgcAXR"
      },
      "source": [
        "## Create the baseline RI_ActorCritic_Coord\n"
      ]
    },
    {
      "cell_type": "code",
      "metadata": {
        "id": "bXoip-MndFVA"
      },
      "source": [
        "import os\n",
        "import torch.optim as optim\n",
        "import torch\n",
        "import torch.nn.functional as F\n",
        "import torch.nn as nn\n",
        "from torch.distributions import Normal\n",
        "from torch.optim import Adam\n",
        "from torch.autograd import Variable\n",
        "import torch.nn.utils as utils\n",
        "import numpy as np\n",
        "import random\n",
        "import copy\n",
        "import gym\n",
        "from sklearn.linear_model import LinearRegression\n",
        "import json\n",
        "from sklearn.decomposition import PCA\n",
        "from sklearn.ensemble import GradientBoostingRegressor\n",
        "# torch.autograd.set_detect_anomaly(True)\n",
        "import time\n",
        "import math\n",
        "\n",
        "# set the path so that we could read created modules\n",
        "import sys\n",
        "\n",
        "# organized into different classes for editing easier\n",
        "from RBC_Agent import RBC_Agent\n",
        "from model import PolicyNetwork, SoftQNetwork, RegressionBuffer\n",
        "from ReplayBuffer import ReplayBuffer\n",
        "from data_process import no_normalization, periodic_normalization, onehot_encoding, normalize, remove_feature\n",
        "\n",
        "# check cuda is available\n",
        "if torch.cuda.is_available():\n",
        "    torch.set_default_tensor_type(torch.cuda.FloatTensor)\n",
        "        "
      ],
      "execution_count": null,
      "outputs": []
    },
    {
      "cell_type": "markdown",
      "metadata": {
        "id": "4UcdYWk6Tdb-"
      },
      "source": [
        "## Creating REINFORCE agents\n",
        "* MARISA reward, REINFORCE agent for each building, PCA and information shareing are removed.\n",
        "* *Reference*: [pytorch-REINFORCE](https://github.com/chingyaoc/pytorch-REINFORCE)\n",
        "\n",
        "    ![image](https://user-images.githubusercontent.com/56372825/108765699-1d8c3d80-7522-11eb-9c26-508e71c9fe08.png)\n"
      ]
    },
    {
      "cell_type": "markdown",
      "metadata": {
        "id": "C2wAQgOWNaN4"
      },
      "source": [
        "#### Policy network class"
      ]
    },
    {
      "cell_type": "code",
      "metadata": {
        "id": "toRyRykm9QON"
      },
      "source": [
        "class Policy(nn.Module):\n",
        "    def __init__(self, hidden_size, num_inputs, action_space):\n",
        "        super(Policy, self).__init__()\n",
        "        self.action_space = action_space\n",
        "        num_outputs = action_space.shape[0]\n",
        "\n",
        "        self.linear1 = nn.Linear(num_inputs, hidden_size[0])\n",
        "        self.linear1h = nn.Linear(hidden_size[0], hidden_size[1])\n",
        "        self.linear2 = nn.Linear(hidden_size[1], num_outputs)\n",
        "        self.linear2_ = nn.Linear(hidden_size[1], num_outputs)\n",
        "\n",
        "    def forward(self, inputs):\n",
        "        x = inputs\n",
        "        x = F.relu(self.linear1(x))\n",
        "        x = F.relu(self.linear1h(x))\n",
        "        mu = F.tanh(self.linear2(x))\n",
        "        sigma_sq = F.tanh(self.linear2_(x))\n",
        "\n",
        "        return mu, sigma_sq"
      ],
      "execution_count": null,
      "outputs": []
    },
    {
      "cell_type": "code",
      "metadata": {
        "id": "HZSwEGsbN4ie"
      },
      "source": [
        "pi = Variable(torch.FloatTensor([math.pi])).cuda()\n",
        "def normal(x, mu, sigma_sq):\n",
        "    a = (-1*(Variable(x)-mu).pow(2)/(2*sigma_sq)).exp()\n",
        "    b = 1/(2*sigma_sq*pi.expand_as(sigma_sq)).sqrt()\n",
        "    return a*b"
      ],
      "execution_count": null,
      "outputs": []
    },
    {
      "cell_type": "markdown",
      "metadata": {
        "id": "y69nnzFqNgHz"
      },
      "source": [
        "#### RI_REINFORCE_Agents class\n",
        "\n",
        "* REINFORCE updates Each policy for each buildings \n",
        "* Multiple buildings, MARISA reward, and no information sharing / PCA."
      ]
    },
    {
      "cell_type": "code",
      "metadata": {
        "id": "GUamOHae1Ji6"
      },
      "source": [
        "class RI_REINFORCE_Agents():\n",
        "    def __init__(self, building_ids, \n",
        "                 buildings_states_actions, \n",
        "                 building_info,\n",
        "                 observation_spaces = None, \n",
        "                 action_spaces = None):\n",
        "        \n",
        "        # Read valid state variables and action variables for each building\n",
        "        # they are written in buildings_state_action_space.json in CityLean\n",
        "        with open(buildings_states_actions) as json_file:\n",
        "            self.buildings_states_actions = json.load(json_file)\n",
        "\n",
        "        # Set seeds\n",
        "        seed = 20180517 # to init parameters\n",
        "        torch.manual_seed(seed)\n",
        "        np.random.seed(seed)\n",
        "\n",
        "        # Set action and ovservation spaces for each building\n",
        "        # e.g., 'Building_1' as uid\n",
        "        self.building_ids = building_ids \n",
        "        self.action_spaces = {uid : a_space for uid, a_space in zip(building_ids, action_spaces)}\n",
        "        self.observation_spaces = {uid : o_space for uid, o_space in zip(building_ids, observation_spaces)}\n",
        "\n",
        "        # Set variables for exploration\n",
        "        self.timestep_count = 0\n",
        "        self.epsilon = 0.5\n",
        "    \n",
        "        # Initialize a policy and optimizers\n",
        "        # using empty dict, because keys, building_ids, are str.\n",
        "        self.policies, self.optimizers = {}, {}\n",
        "        for uid in self.building_ids:\n",
        "\n",
        "            # initialize plicy parameters of a policy\n",
        "            hidden_size = [400, 300]\n",
        "            num_inputs = self.observation_spaces[uid].shape[0]\n",
        "\n",
        "            # initialize a policy for a building\n",
        "            self.policies[uid] = Policy(hidden_size, num_inputs, self.action_spaces[uid])\n",
        "            self.policies[uid] = self.policies[uid].cuda()\n",
        "            # initialize a optimizer for a policy\n",
        "            self.optimizers[uid] = optim.Adam(self.policies[uid].parameters(), lr=1e-3)\n",
        "            # set the plicy in training mode\n",
        "            self.policies[uid].train()\n",
        "         \n",
        "    def select_action(self, states):\n",
        "        # update timestep the policies are trained\n",
        "        self.timestep_count += 1\n",
        "        # until three years pass, add (epsilon) * (random noise) into action\n",
        "        self.epsilon = max(0.01, 1.0 - self.timestep_count / (8760*14))\n",
        "        #print(f\"{self.timestep_count}:{self.epsilon}\")\n",
        "\n",
        "        # states is a ndarray, so first chage it as dict of uid\n",
        "        states = {uid : o_space for uid, o_space in zip(self.building_ids, states)}\n",
        "        # initialize actions as dict\n",
        "        actions, log_probs, entropies = {}, {}, {}\n",
        "\n",
        "        # for each policy\n",
        "        for uid in self.building_ids:\n",
        "            # get lower and higher boundary of a building\n",
        "            lowb = self.action_spaces[uid].low\n",
        "            highb = self.action_spaces[uid].high\n",
        "            action_mag = torch.Tensor((highb - lowb) / 2)\n",
        "\n",
        "            # get a state for a bilding and convert it to torch.float32\n",
        "            state = torch.Tensor(states[uid])\n",
        "            mu, sigma_sq = self.policies[uid](Variable(state).cuda())\n",
        "            sigma_sq = F.softplus(sigma_sq)\n",
        "\n",
        "            eps = torch.randn(mu.size())\n",
        "            # calculate the probability\n",
        "            action = action_mag * mu + eps * self.epsilon\n",
        "            #action = (mu + sigma_sq.sqrt()*Variable(eps).cuda()).data\n",
        "\n",
        "            # clip action values in appropriate ranges\n",
        "            for i in range(len(action)):\n",
        "                action[i] = torch.clip(action[i], lowb[i], highb[i])\n",
        "            \n",
        "            prob = normal(action, mu, sigma_sq)\n",
        "\n",
        "            entropy = -0.5*((sigma_sq+2*pi.expand_as(sigma_sq)).log()+1)\n",
        "            log_prob = prob.log()\n",
        "            \n",
        "            actions[uid] = action.detach().cpu().numpy()\n",
        "            entropies[uid] = entropy\n",
        "            log_probs[uid] = log_prob\n",
        "\n",
        "        # changes the type of actions from dict to list of np.ndarray\n",
        "        return list(actions.values()), list(log_probs.values()), list(entropies.values())\n",
        "\n",
        "    def update_policies(self, rewards, log_probs, entropies, gamma):\n",
        "        # for each policy\n",
        "        index = 0\n",
        "        for uid in self.building_ids:\n",
        "            # Dim of rewards is (number of steps) x (number of buildings)\n",
        "            # So take a one reward sequence (step 0 ~ 8759) for one building using uid\n",
        "            f = lambda x: x[index]\n",
        "            reward_one_building = [f(x) for x in rewards]\n",
        "            log_prob_one_building = [f(x) for x in log_probs]\n",
        "            entropy_one_building = [f(x) for x in entropies]\n",
        "            R = torch.zeros(1, )\n",
        "            loss = 0\n",
        "            for i in reversed(range(len(reward_one_building))):\n",
        "                R = gamma * R + reward_one_building[i]\n",
        "                loss = loss - (log_prob_one_building[i]*(Variable(R).expand_as(log_prob_one_building[i])).cuda()).sum() - (0.0001*entropy_one_building[i].cuda()).sum()\n",
        "            loss = loss / len(reward_one_building)\n",
        "\t\t\n",
        "            self.optimizers[uid].zero_grad()\n",
        "            loss.backward()\n",
        "            utils.clip_grad_norm(self.policies[uid].parameters(), 40)\n",
        "            self.optimizers[uid].step()\n",
        "\n",
        "            index += 1\n"
      ],
      "execution_count": null,
      "outputs": []
    },
    {
      "cell_type": "markdown",
      "metadata": {
        "id": "Z5LU2D4FNl1k"
      },
      "source": [
        "#### Checking how the REINFORCE agents work correctly"
      ]
    },
    {
      "cell_type": "code",
      "metadata": {
        "colab": {
          "base_uri": "https://localhost:8080/"
        },
        "id": "45w45gv_XLBx",
        "outputId": "e478d41a-7399-4d61-c5c5-3aefd47712d7"
      },
      "source": [
        "torch.Tensor((agent.action_spaces['Building_1'].high - agent.action_spaces['Building_1'].low) / 2)[0]"
      ],
      "execution_count": null,
      "outputs": [
        {
          "output_type": "execute_result",
          "data": {
            "text/plain": [
              "tensor(0.5000)"
            ]
          },
          "metadata": {
            "tags": []
          },
          "execution_count": 293
        }
      ]
    },
    {
      "cell_type": "code",
      "metadata": {
        "id": "2d7IoCvg_lV5"
      },
      "source": [
        "agent = RI_REINFORCE_Agents(building_ids, \n",
        "                             building_state_actions, \n",
        "                             building_info, \n",
        "                             observations_spaces, \n",
        "                             actions_spaces)"
      ],
      "execution_count": null,
      "outputs": []
    },
    {
      "cell_type": "code",
      "metadata": {
        "colab": {
          "base_uri": "https://localhost:8080/"
        },
        "id": "hY883XRVKPM9",
        "outputId": "b93007d4-7106-43c4-a3a5-e54b47227e32"
      },
      "source": [
        "%%time\n",
        "n_episodes = 14\n",
        "gamma = 0.99\n",
        "\n",
        "costs = []\n",
        "cumulated_rewards = []\n",
        "\n",
        "for i_episode in range(n_episodes):\n",
        "    print(f\"Episode:{i_episode}\")\n",
        "    state = env.reset()\n",
        "    done = False\n",
        "\n",
        "    entropies = []\n",
        "    log_probs = []\n",
        "    rewards = []\n",
        "    \n",
        "    while not done:\n",
        "        action, log_prob, entropy = agent.select_action(state)\n",
        "        #print(action)\n",
        "\n",
        "        next_state, reward, done, _ = env.step(action)\n",
        "\n",
        "        entropies.append(entropy)\n",
        "        log_probs.append(log_prob)\n",
        "        rewards.append(reward)\n",
        "        state = next_state\n",
        "\n",
        "        # every step, update the parameters\n",
        "        agent.update_policies(rewards, log_probs, entropies, gamma)\n",
        "        entropies = []\n",
        "        log_probs = []\n",
        "        rewards = []           \n",
        "        \n",
        "        if done:\n",
        "            costs.append(env.cost())\n",
        "            cumulated_rewards.append(np.sum(rewards))\n",
        "            break\n",
        "    # Here is the first position of update_policies\n",
        "    #agent.update_policies(rewards, log_probs, entropies, gamma)"
      ],
      "execution_count": null,
      "outputs": [
        {
          "output_type": "stream",
          "text": [
            "Episode:0\n",
            "Cumulated reward: -1946800759.7903354\n",
            "Cost score: {'ramping': 2.5004303, '1-load_factor': 1.1347118982591238, 'average_daily_peak': 1.3869452, 'peak_demand': 1.1926126, 'net_electricity_consumption': 1.0275272, 'total': 1.448445470510284}\n",
            "Episode:1\n",
            "Cumulated reward: -1918281110.2072787\n",
            "Cost score: {'ramping': 2.4039733, '1-load_factor': 1.130566044430363, 'average_daily_peak': 1.387516, 'peak_demand': 1.1815301, 'net_electricity_consumption': 1.026934, 'total': 1.4261039105614877}\n",
            "Episode:2\n",
            "Cumulated reward: -1880072961.052394\n",
            "Cost score: {'ramping': 2.312091, '1-load_factor': 1.1324846341231163, 'average_daily_peak': 1.3841088, 'peak_demand': 1.1710763, 'net_electricity_consumption': 1.0275906, 'total': 1.4054702916546404}\n",
            "Episode:3\n",
            "Cumulated reward: -1869409115.2824495\n",
            "Cost score: {'ramping': 2.2709265, '1-load_factor': 1.1364201321060259, 'average_daily_peak': 1.3738109, 'peak_demand': 1.2218697, 'net_electricity_consumption': 1.025396, 'total': 1.4056846382986465}\n",
            "Episode:4\n",
            "Cumulated reward: -1824750871.3184185\n",
            "Cost score: {'ramping': 2.1946466, '1-load_factor': 1.1369476030191006, 'average_daily_peak': 1.3599207, 'peak_demand': 1.1660877, 'net_electricity_consumption': 1.0264262, 'total': 1.376805776554748}\n",
            "Episode:5\n",
            "Cumulated reward: -1803732080.0617197\n",
            "Cost score: {'ramping': 2.032304, '1-load_factor': 1.1316186215009219, 'average_daily_peak': 1.3235514, 'peak_demand': 1.1926126, 'net_electricity_consumption': 1.0247843, 'total': 1.3409742121999646}\n",
            "Episode:6\n",
            "Cumulated reward: -1755507822.8294554\n",
            "Cost score: {'ramping': 1.8921374, '1-load_factor': 1.1217674697278202, 'average_daily_peak': 1.3003579, 'peak_demand': 1.1707038, 'net_electricity_consumption': 1.0243101, 'total': 1.3018553393053662}\n",
            "Episode:7\n",
            "Cumulated reward: -1706412509.3158412\n",
            "Cost score: {'ramping': 1.6555046, '1-load_factor': 1.1043480644053556, 'average_daily_peak': 1.2576678, 'peak_demand': 1.172038, 'net_electricity_consumption': 1.0238311, 'total': 1.2426779033626385}\n",
            "Episode:8\n",
            "Cumulated reward: -1663482242.3740304\n",
            "Cost score: {'ramping': 1.3984805, '1-load_factor': 1.0900005724894921, 'average_daily_peak': 1.1949013, 'peak_demand': 1.1859685, 'net_electricity_consumption': 1.0249859, 'total': 1.178867376384495}\n",
            "Episode:9\n",
            "Cumulated reward: -1626751639.6049876\n",
            "Cost score: {'ramping': 1.1787106, '1-load_factor': 1.0764941376404746, 'average_daily_peak': 1.1400237, 'peak_demand': 1.1281208, 'net_electricity_consumption': 1.0260047, 'total': 1.1098707755795476}\n",
            "Episode:10\n",
            "Cumulated reward: -1608201895.5785267\n",
            "Cost score: {'ramping': 1.0443085, '1-load_factor': 1.0367121727088602, 'average_daily_peak': 1.1005534, 'peak_demand': 1.1246986, 'net_electricity_consumption': 1.0261627, 'total': 1.066487098352502}\n",
            "Episode:11\n",
            "Cumulated reward: -1603752694.638705\n",
            "Cost score: {'ramping': 1.004588, '1-load_factor': 1.029984870742517, 'average_daily_peak': 1.0888493, 'peak_demand': 1.1246986, 'net_electricity_consumption': 1.0262637, 'total': 1.0548769075057423}\n",
            "Episode:12\n",
            "Cumulated reward: -1603864312.1857889\n",
            "Cost score: {'ramping': 1.0018992, '1-load_factor': 1.0278745152898328, 'average_daily_peak': 1.0887691, 'peak_demand': 1.1246986, 'net_electricity_consumption': 1.0262421, 'total': 1.0538967223633864}\n",
            "Episode:13\n",
            "Cumulated reward: -1603863179.970075\n",
            "Cost score: {'ramping': 1.0018169, '1-load_factor': 1.0278745843337915, 'average_daily_peak': 1.0887691, 'peak_demand': 1.1246986, 'net_electricity_consumption': 1.0262419, 'total': 1.0538802137646466}\n",
            "CPU times: user 6min 33s, sys: 6.69 s, total: 6min 40s\n",
            "Wall time: 6min 43s\n"
          ],
          "name": "stdout"
        }
      ]
    },
    {
      "cell_type": "code",
      "metadata": {
        "id": "WVeED-6cb2-z",
        "colab": {
          "base_uri": "https://localhost:8080/",
          "height": 310
        },
        "outputId": "d31f3a7c-d9bf-4bcc-89cb-e86fa8afc943"
      },
      "source": [
        "ax = pd.DataFrame(costs)[[\"total\"]].plot()\n",
        "cz = env.data_path.name\n",
        "bids = env.building_ids\n",
        "plt.title(f\"Training Curve of REINFORCE multiple-agents (but using only one building)\\n {cz}:{bids}\")\n",
        "plt.xlabel(\"Epoch (1year = 8760hours:timesteps)\")\n",
        "plt.ylabel(\"Total Cost\")\n",
        "pass"
      ],
      "execution_count": null,
      "outputs": [
        {
          "output_type": "display_data",
          "data": {
            "image/png": "[encoded data removed]",
            "text/plain": [
              "<Figure size 432x288 with 1 Axes>"
            ]
          },
          "metadata": {
            "tags": [],
            "needs_background": "light"
          }
        }
      ]
    }
  ]
}
{
  "nbformat": 4,
  "nbformat_minor": 0,
  "metadata": {
    "colab": {
      "name": "CityLearn_PreTrain_by_RBC_ver2.ipynb",
      "provenance": [],
      "collapsed_sections": [],
      "toc_visible": true
    },
    "kernelspec": {
      "name": "python3",
      "display_name": "Python 3"
    },
    "accelerator": "GPU"
  },
  "cells": [
    {
      "cell_type": "markdown",
      "metadata": {
        "id": "LKaxdlK89xtZ"
      },
      "source": [
        "## Load environment"
      ]
    },
    {
      "cell_type": "code",
      "metadata": {
        "colab": {
          "base_uri": "https://localhost:8080/"
        },
        "id": "94GIipXJ0CbK",
        "outputId": "4689ec6d-a8a7-4100-8ce8-a7558d089c8f"
      },
      "source": [
        "!rm -rf ./CityLearn_garage/\n",
        "!git clone https://github.com/shttksm/CityLearn_garage.git"
      ],
      "execution_count": 1,
      "outputs": [
        {
          "output_type": "stream",
          "text": [
            "Cloning into 'CityLearn_garage'...\n",
            "remote: Enumerating objects: 141, done.\u001b[K\n",
            "remote: Counting objects: 100% (141/141), done.\u001b[K\n",
            "remote: Compressing objects: 100% (114/114), done.\u001b[K\n",
            "remote: Total 141 (delta 40), reused 124 (delta 26), pack-reused 0\u001b[K\n",
            "Receiving objects: 100% (141/141), 11.92 MiB | 17.24 MiB/s, done.\n",
            "Resolving deltas: 100% (40/40), done.\n"
          ],
          "name": "stdout"
        }
      ]
    },
    {
      "cell_type": "code",
      "metadata": {
        "id": "XJkvwUO02Rfi"
      },
      "source": [
        "# Loading libraries\n",
        "import sys\n",
        "sys.path.append(\"./CityLearn_garage\")\n",
        "\n",
        "from citylearn import CityLearn\n",
        "from reward_function import reward_function_ma\n",
        "import matplotlib.pyplot as plt\n",
        "from pathlib import Path\n",
        "import numpy as np\n",
        "from agent import RL_Agents_Coord\n",
        "\n",
        "import os\n",
        "import gym\n",
        "import numpy as np\n",
        "#from stable_baselines3 import SAC\n",
        "#from stable_baselines3.sac.policies import MlpPolicy as MlpPolicy_SAC\n",
        "#from stable_baselines3.common.callbacks import BaseCallback\n",
        "import matplotlib.pyplot as plt\n",
        "from pathlib import Path\n",
        "import time\n",
        "\n",
        "import pandas as pd\n",
        "import seaborn as sns\n",
        "\n",
        "import pickle\n",
        "import copy\n",
        "from tqdm import tqdm"
      ],
      "execution_count": 2,
      "outputs": []
    },
    {
      "cell_type": "code",
      "metadata": {
        "id": "3m7aeR4Vxmy2"
      },
      "source": [
        "import torch as th\n",
        "import torch.nn as nn\n",
        "import torch.optim as optim\n",
        "from torch.optim.lr_scheduler import StepLR\n",
        "from torch.utils.data.dataset import Dataset, random_split"
      ],
      "execution_count": 3,
      "outputs": []
    },
    {
      "cell_type": "code",
      "metadata": {
        "id": "TYWo8LVu2qsR"
      },
      "source": [
        "def get_env(climate_zone):\n",
        "  # Load environment\n",
        "  data_path = Path(\"./CityLearn_garage/data/Climate_Zone_\"+str(climate_zone))\n",
        "  building_attributes = data_path / 'building_attributes.json'\n",
        "  weather_file = data_path / 'weather_data.csv'\n",
        "  solar_profile = data_path / 'solar_generation_1kW.csv'\n",
        "  building_state_actions = './CityLearn_garage/buildings_state_action_space.json'\n",
        "  building_ids = [\"Building_1\",\"Building_2\",\"Building_3\",\"Building_4\",\"Building_5\",\"Building_6\",\"Building_7\",\"Building_8\",\"Building_9\"]\n",
        "  #building_ids = [\"Building_1\"] # Changed here. From 9 buildings to single building\n",
        "  objective_function = ['ramping','1-load_factor','average_daily_peak','peak_demand','net_electricity_consumption']\n",
        "\n",
        "  # Contain the lower and upper bounds of the states and actions, to be provided to the agent to normalize the variables between 0 and 1.\n",
        "  # Can be obtained using observations_spaces[i].low or .high\n",
        "  env = CityLearn(data_path, \n",
        "                  building_attributes, \n",
        "                  weather_file, \n",
        "                  solar_profile, \n",
        "                  building_ids, \n",
        "                  buildings_states_actions = building_state_actions, \n",
        "                  cost_function = objective_function, \n",
        "                  verbose = 1, \n",
        "                  simulation_period=(0,8760-1), \n",
        "                  central_agent=True) # I changed here.\n",
        "  # Provides information on Building type, Climate Zone, Annual DHW demand, Annual Cooling Demand, Annual Electricity Demand, Solar Capacity, and correllations among buildings\n",
        "  building_info = env.get_building_information()  \n",
        "  observations_spaces, actions_spaces = env.get_state_action_spaces()\n",
        "\n",
        "  return env, building_ids, building_state_actions, building_info, observations_spaces, actions_spaces"
      ],
      "execution_count": 4,
      "outputs": []
    },
    {
      "cell_type": "code",
      "metadata": {
        "id": "Pn-11MHT2t0A"
      },
      "source": [
        "env, building_ids, building_state_actions, building_info, observations_spaces, actions_spaces = get_env(2)"
      ],
      "execution_count": 5,
      "outputs": []
    },
    {
      "cell_type": "markdown",
      "metadata": {
        "id": "VPFBd8-W93wj"
      },
      "source": [
        "# Load stable-baselines3"
      ]
    },
    {
      "cell_type": "code",
      "metadata": {
        "colab": {
          "base_uri": "https://localhost:8080/"
        },
        "id": "eQeQOZpN2xaT",
        "outputId": "0098a4b2-d192-447c-f774-158e9592979e"
      },
      "source": [
        "pip install stable-baselines3"
      ],
      "execution_count": 6,
      "outputs": [
        {
          "output_type": "stream",
          "text": [
            "Collecting stable-baselines3\n",
            "\u001b[?25l  Downloading https://files.pythonhosted.org/packages/f9/97/f6da6fcaa96934832c02acf95a32309cfa8646b010221f6c7a14bfcf40d0/stable_baselines3-0.11.1-py3-none-any.whl (152kB)\n",
            "\r\u001b[K     |██▏                             | 10kB 22.4MB/s eta 0:00:01\r\u001b[K     |████▎                           | 20kB 28.2MB/s eta 0:00:01\r\u001b[K     |██████▌                         | 30kB 26.6MB/s eta 0:00:01\r\u001b[K     |████████▋                       | 40kB 20.2MB/s eta 0:00:01\r\u001b[K     |██████████▊                     | 51kB 15.7MB/s eta 0:00:01\r\u001b[K     |█████████████                   | 61kB 14.6MB/s eta 0:00:01\r\u001b[K     |███████████████                 | 71kB 16.1MB/s eta 0:00:01\r\u001b[K     |█████████████████▏              | 81kB 16.0MB/s eta 0:00:01\r\u001b[K     |███████████████████▍            | 92kB 15.3MB/s eta 0:00:01\r\u001b[K     |█████████████████████▌          | 102kB 16.5MB/s eta 0:00:01\r\u001b[K     |███████████████████████▊        | 112kB 16.5MB/s eta 0:00:01\r\u001b[K     |█████████████████████████▉      | 122kB 16.5MB/s eta 0:00:01\r\u001b[K     |████████████████████████████    | 133kB 16.5MB/s eta 0:00:01\r\u001b[K     |██████████████████████████████▏ | 143kB 16.5MB/s eta 0:00:01\r\u001b[K     |████████████████████████████████| 153kB 16.5MB/s \n",
            "\u001b[?25hRequirement already satisfied: gym>=0.17 in /usr/local/lib/python3.7/dist-packages (from stable-baselines3) (0.17.3)\n",
            "Requirement already satisfied: matplotlib in /usr/local/lib/python3.7/dist-packages (from stable-baselines3) (3.2.2)\n",
            "Requirement already satisfied: numpy in /usr/local/lib/python3.7/dist-packages (from stable-baselines3) (1.19.5)\n",
            "Requirement already satisfied: torch>=1.4.0 in /usr/local/lib/python3.7/dist-packages (from stable-baselines3) (1.8.0+cu101)\n",
            "Requirement already satisfied: pandas in /usr/local/lib/python3.7/dist-packages (from stable-baselines3) (1.1.5)\n",
            "Requirement already satisfied: cloudpickle in /usr/local/lib/python3.7/dist-packages (from stable-baselines3) (1.3.0)\n",
            "Requirement already satisfied: scipy in /usr/local/lib/python3.7/dist-packages (from gym>=0.17->stable-baselines3) (1.4.1)\n",
            "Requirement already satisfied: pyglet<=1.5.0,>=1.4.0 in /usr/local/lib/python3.7/dist-packages (from gym>=0.17->stable-baselines3) (1.5.0)\n",
            "Requirement already satisfied: python-dateutil>=2.1 in /usr/local/lib/python3.7/dist-packages (from matplotlib->stable-baselines3) (2.8.1)\n",
            "Requirement already satisfied: pyparsing!=2.0.4,!=2.1.2,!=2.1.6,>=2.0.1 in /usr/local/lib/python3.7/dist-packages (from matplotlib->stable-baselines3) (2.4.7)\n",
            "Requirement already satisfied: cycler>=0.10 in /usr/local/lib/python3.7/dist-packages (from matplotlib->stable-baselines3) (0.10.0)\n",
            "Requirement already satisfied: kiwisolver>=1.0.1 in /usr/local/lib/python3.7/dist-packages (from matplotlib->stable-baselines3) (1.3.1)\n",
            "Requirement already satisfied: typing-extensions in /usr/local/lib/python3.7/dist-packages (from torch>=1.4.0->stable-baselines3) (3.7.4.3)\n",
            "Requirement already satisfied: pytz>=2017.2 in /usr/local/lib/python3.7/dist-packages (from pandas->stable-baselines3) (2018.9)\n",
            "Requirement already satisfied: future in /usr/local/lib/python3.7/dist-packages (from pyglet<=1.5.0,>=1.4.0->gym>=0.17->stable-baselines3) (0.16.0)\n",
            "Requirement already satisfied: six>=1.5 in /usr/local/lib/python3.7/dist-packages (from python-dateutil>=2.1->matplotlib->stable-baselines3) (1.15.0)\n",
            "Installing collected packages: stable-baselines3\n",
            "Successfully installed stable-baselines3-0.11.1\n"
          ],
          "name": "stdout"
        }
      ]
    },
    {
      "cell_type": "code",
      "metadata": {
        "id": "ACWJJOeFHxj3"
      },
      "source": [
        "from stable_baselines3 import SAC, A2C, PPO\n",
        "from stable_baselines3.sac.policies import MlpPolicy as MlpPolicy_SAC\n",
        "from stable_baselines3.common.evaluation import evaluate_policy\n",
        "\n",
        "from stable_baselines3.common.env_util import make_vec_env\n",
        "from stable_baselines3.common.vec_env import VecNormalize"
      ],
      "execution_count": 7,
      "outputs": []
    },
    {
      "cell_type": "markdown",
      "metadata": {
        "id": "IQP0zUC-24R0"
      },
      "source": [
        "# Gather operation data from the expert (RBC controller)"
      ]
    },
    {
      "cell_type": "code",
      "metadata": {
        "id": "8qAqKawL3RNp"
      },
      "source": [
        "num_interactions = int(8760 * 12)"
      ],
      "execution_count": 8,
      "outputs": []
    },
    {
      "cell_type": "code",
      "metadata": {
        "id": "_ENDXUbM_N9G"
      },
      "source": [
        "if isinstance(env.action_space, gym.spaces.Box):\n",
        "  expert_observations = np.empty((num_interactions,) + env.observation_space.shape)\n",
        "  expert_actions = np.empty((num_interactions,) + (env.action_space.shape[0],))"
      ],
      "execution_count": 9,
      "outputs": []
    },
    {
      "cell_type": "code",
      "metadata": {
        "id": "2Pz2h7DL_h1n"
      },
      "source": [
        "class RBC_agent:\n",
        "    def __init__(self, env):\n",
        "        self.num_action = env.action_space.shape[0]\n",
        "\n",
        "    def select_action_by_RBC(self, state):\n",
        "        hour = state[2]                                                                                                                                                               \n",
        "        action_rbc = None                                                                                                                                                             \n",
        "        if hour >= 9 and hour <= 21:                                                                                                                                                  \n",
        "            action_rbc = [-0.08] * self.num_action                                                                                                                                     \n",
        "        else:                                                                                                                                                                         \n",
        "            action_rbc = [0.091] * self.num_action                                                                                                                                       \n",
        "                                                                                                                                                                                    \n",
        "        action_rbc = np.array(action_rbc)\n",
        "\n",
        "        return action_rbc     "
      ],
      "execution_count": 10,
      "outputs": []
    },
    {
      "cell_type": "code",
      "metadata": {
        "id": "sTBnTkJQCa4U"
      },
      "source": [
        "rbc = RBC_agent(env)"
      ],
      "execution_count": 11,
      "outputs": []
    },
    {
      "cell_type": "code",
      "metadata": {
        "colab": {
          "base_uri": "https://localhost:8080/"
        },
        "id": "Ggrbhp2k_TCo",
        "outputId": "e8b94fdb-aa65-4136-c027-9ebf3edda1d9"
      },
      "source": [
        "obs = env.reset()\n",
        "\n",
        "for i in tqdm(range(num_interactions)):\n",
        "    action = rbc.select_action_by_RBC(obs)\n",
        "    expert_observations[i] = obs\n",
        "    expert_actions[i] = action\n",
        "    obs, reward, done, info = env.step(action)\n",
        "    if done:\n",
        "        obs = env.reset()"
      ],
      "execution_count": 12,
      "outputs": [
        {
          "output_type": "stream",
          "text": [
            "  8%|▊         | 8540/105120 [00:03<00:34, 2826.93it/s]"
          ],
          "name": "stderr"
        },
        {
          "output_type": "stream",
          "text": [
            "Cumulated reward: -51726580620.15482\n"
          ],
          "name": "stdout"
        },
        {
          "output_type": "stream",
          "text": [
            "./CityLearn_garage/citylearn.py:530: VisibleDeprecationWarning: Creating an ndarray from ragged nested sequences (which is a list-or-tuple of lists-or-tuples-or ndarrays with different lengths or shapes) is deprecated. If you meant to do this, you must specify 'dtype=object' when creating the ndarray\n",
            "  self.state = np.array(self.state)\n",
            "./CityLearn_garage/citylearn.py:41: VisibleDeprecationWarning: Creating an ndarray from ragged nested sequences (which is a list-or-tuple of lists-or-tuples-or ndarrays with different lengths or shapes) is deprecated. If you meant to do this, you must specify 'dtype=object' when creating the ndarray\n",
            "  return np.array(a)\n",
            "./CityLearn_garage/citylearn.py:452: VisibleDeprecationWarning: Creating an ndarray from ragged nested sequences (which is a list-or-tuple of lists-or-tuples-or ndarrays with different lengths or shapes) is deprecated. If you meant to do this, you must specify 'dtype=object' when creating the ndarray\n",
            "  self.state = np.array(self.state)\n",
            "  9%|▊         | 9104/105120 [00:13<12:43, 125.68it/s]"
          ],
          "name": "stderr"
        },
        {
          "output_type": "stream",
          "text": [
            "Cost score: {'ramping': 1.0, '1-load_factor': 1.0, 'average_daily_peak': 1.0, 'peak_demand': 1.0, 'net_electricity_consumption': 1.0, 'total': 1.0}\n"
          ],
          "name": "stdout"
        },
        {
          "output_type": "stream",
          "text": [
            " 17%|█▋        | 17836/105120 [00:16<00:34, 2560.26it/s]"
          ],
          "name": "stderr"
        },
        {
          "output_type": "stream",
          "text": [
            "Cumulated reward: -51726580620.15482\n",
            "Cost score: {'ramping': 1.0, '1-load_factor': 1.0, 'average_daily_peak': 1.0, 'peak_demand': 1.0, 'net_electricity_consumption': 1.0, 'total': 1.0}\n"
          ],
          "name": "stdout"
        },
        {
          "output_type": "stream",
          "text": [
            " 25%|██▌       | 26720/105120 [00:19<00:29, 2680.79it/s]"
          ],
          "name": "stderr"
        },
        {
          "output_type": "stream",
          "text": [
            "Cumulated reward: -51726580620.15482\n",
            "Cost score: {'ramping': 1.0, '1-load_factor': 1.0, 'average_daily_peak': 1.0, 'peak_demand': 1.0, 'net_electricity_consumption': 1.0, 'total': 1.0}\n"
          ],
          "name": "stdout"
        },
        {
          "output_type": "stream",
          "text": [
            " 34%|███▍      | 35843/105120 [00:23<00:26, 2630.49it/s]"
          ],
          "name": "stderr"
        },
        {
          "output_type": "stream",
          "text": [
            "Cumulated reward: -51726580620.15482\n",
            "Cost score: {'ramping': 1.0, '1-load_factor': 1.0, 'average_daily_peak': 1.0, 'peak_demand': 1.0, 'net_electricity_consumption': 1.0, 'total': 1.0}\n"
          ],
          "name": "stdout"
        },
        {
          "output_type": "stream",
          "text": [
            " 42%|████▏     | 44431/105120 [00:26<00:24, 2515.41it/s]"
          ],
          "name": "stderr"
        },
        {
          "output_type": "stream",
          "text": [
            "Cumulated reward: -51726580620.15482\n",
            "Cost score: {'ramping': 1.0, '1-load_factor': 1.0, 'average_daily_peak': 1.0, 'peak_demand': 1.0, 'net_electricity_consumption': 1.0, 'total': 1.0}\n"
          ],
          "name": "stdout"
        },
        {
          "output_type": "stream",
          "text": [
            " 51%|█████     | 53176/105120 [00:29<00:20, 2579.51it/s]"
          ],
          "name": "stderr"
        },
        {
          "output_type": "stream",
          "text": [
            "Cumulated reward: -51726580620.15482\n",
            "Cost score: {'ramping': 1.0, '1-load_factor': 1.0, 'average_daily_peak': 1.0, 'peak_demand': 1.0, 'net_electricity_consumption': 1.0, 'total': 1.0}\n"
          ],
          "name": "stdout"
        },
        {
          "output_type": "stream",
          "text": [
            " 59%|█████▊    | 61715/105120 [00:32<00:15, 2723.75it/s]"
          ],
          "name": "stderr"
        },
        {
          "output_type": "stream",
          "text": [
            "Cumulated reward: -51726580620.15482\n",
            "Cost score: {'ramping': 1.0, '1-load_factor': 1.0, 'average_daily_peak': 1.0, 'peak_demand': 1.0, 'net_electricity_consumption': 1.0, 'total': 1.0}\n"
          ],
          "name": "stdout"
        },
        {
          "output_type": "stream",
          "text": [
            " 67%|██████▋   | 70487/105120 [00:35<00:12, 2698.78it/s]"
          ],
          "name": "stderr"
        },
        {
          "output_type": "stream",
          "text": [
            "Cumulated reward: -51726580620.15482\n",
            "Cost score: {'ramping': 1.0, '1-load_factor': 1.0, 'average_daily_peak': 1.0, 'peak_demand': 1.0, 'net_electricity_consumption': 1.0, 'total': 1.0}\n"
          ],
          "name": "stdout"
        },
        {
          "output_type": "stream",
          "text": [
            " 76%|███████▌  | 79416/105120 [00:38<00:09, 2793.32it/s]"
          ],
          "name": "stderr"
        },
        {
          "output_type": "stream",
          "text": [
            "Cumulated reward: -51726580620.15482\n",
            "Cost score: {'ramping': 1.0, '1-load_factor': 1.0, 'average_daily_peak': 1.0, 'peak_demand': 1.0, 'net_electricity_consumption': 1.0, 'total': 1.0}\n"
          ],
          "name": "stdout"
        },
        {
          "output_type": "stream",
          "text": [
            " 84%|████████▍ | 88340/105120 [00:41<00:06, 2746.24it/s]"
          ],
          "name": "stderr"
        },
        {
          "output_type": "stream",
          "text": [
            "Cumulated reward: -51726580620.15482\n",
            "Cost score: {'ramping': 1.0, '1-load_factor': 1.0, 'average_daily_peak': 1.0, 'peak_demand': 1.0, 'net_electricity_consumption': 1.0, 'total': 1.0}\n"
          ],
          "name": "stdout"
        },
        {
          "output_type": "stream",
          "text": [
            " 92%|█████████▏| 96774/105120 [00:44<00:03, 2779.96it/s]"
          ],
          "name": "stderr"
        },
        {
          "output_type": "stream",
          "text": [
            "Cumulated reward: -51726580620.15482\n",
            "Cost score: {'ramping': 1.0, '1-load_factor': 1.0, 'average_daily_peak': 1.0, 'peak_demand': 1.0, 'net_electricity_consumption': 1.0, 'total': 1.0}\n"
          ],
          "name": "stdout"
        },
        {
          "output_type": "stream",
          "text": [
            "100%|██████████| 105120/105120 [00:47<00:00, 2195.91it/s]"
          ],
          "name": "stderr"
        },
        {
          "output_type": "stream",
          "text": [
            "Cumulated reward: -51726580620.15482\n",
            "Cost score: {'ramping': 1.0, '1-load_factor': 1.0, 'average_daily_peak': 1.0, 'peak_demand': 1.0, 'net_electricity_consumption': 1.0, 'total': 1.0}\n"
          ],
          "name": "stdout"
        },
        {
          "output_type": "stream",
          "text": [
            "\n"
          ],
          "name": "stderr"
        }
      ]
    },
    {
      "cell_type": "code",
      "metadata": {
        "id": "TY1rtKYS_U6o"
      },
      "source": [
        "np.savez_compressed(\n",
        "    \"rbc_data\",\n",
        "    expert_actions=expert_actions,\n",
        "    expert_observations=expert_observations,\n",
        ")"
      ],
      "execution_count": 13,
      "outputs": []
    },
    {
      "cell_type": "markdown",
      "metadata": {
        "id": "AnmIgfwLDY5g"
      },
      "source": [
        "- To seamlessly use PyTorch in the training process, we subclass an `ExpertDataset` from PyTorch's base `Dataset`.\n",
        "- Note that we initialize the dataset with the previously generated expert observations and actions.\n",
        "- We further implement Python's `__getitem__` and `__len__` magic functions to allow PyTorch's dataset-handling to access arbitrary rows in the dataset and inform it about the length of the dataset.\n",
        "- For more information about PyTorch's datasets, you can read: https://pytorch.org/docs/stable/data.html."
      ]
    },
    {
      "cell_type": "code",
      "metadata": {
        "id": "iugmsVodD3CH"
      },
      "source": [
        "class ExpertDataSet(Dataset):\n",
        "    def __init__(self, expert_observations, expert_actions):\n",
        "        self.observations = expert_observations\n",
        "        self.actions = expert_actions\n",
        "        \n",
        "    def __getitem__(self, index):\n",
        "        return (self.observations[index], self.actions[index])\n",
        "\n",
        "    def __len__(self):\n",
        "        return len(self.observations)"
      ],
      "execution_count": 14,
      "outputs": []
    },
    {
      "cell_type": "code",
      "metadata": {
        "id": "5324f7r3D3FO"
      },
      "source": [
        "expert_dataset = ExpertDataSet(expert_observations, expert_actions)\n",
        "\n",
        "train_size = int(0.8 * len(expert_dataset))\n",
        "\n",
        "test_size = len(expert_dataset) - train_size\n",
        "\n",
        "train_expert_dataset, test_expert_dataset = random_split(\n",
        "    expert_dataset, [train_size, test_size], generator=th.Generator('cuda:0')\n",
        ")"
      ],
      "execution_count": 15,
      "outputs": []
    },
    {
      "cell_type": "code",
      "metadata": {
        "colab": {
          "base_uri": "https://localhost:8080/"
        },
        "id": "2Y2mlgcsD3H6",
        "outputId": "609c160e-9bac-4e65-ef1f-2ac5ccd78c45"
      },
      "source": [
        "print(\"test_expert_dataset: \", len(test_expert_dataset))\n",
        "print(\"train_expert_dataset: \", len(train_expert_dataset))"
      ],
      "execution_count": 16,
      "outputs": [
        {
          "output_type": "stream",
          "text": [
            "test_expert_dataset:  21024\n",
            "train_expert_dataset:  84096\n"
          ],
          "name": "stdout"
        }
      ]
    },
    {
      "cell_type": "markdown",
      "metadata": {
        "id": "8L609VIlD3Kh"
      },
      "source": [
        "NOTE: The supervised learning section of this code is adapted from: https://github.com/pytorch/examples/blob/master/mnist/main.py\n",
        "1. We extract the policy network of our RL student agent.\n",
        "2. We load the (labeled) expert dataset containing expert observations as inputs and expert actions as targets.\n",
        "3. We perform supervised learning, that is, we adjust the policy network's parameters such that given expert observations as inputs to the network, its outputs match the targets (expert actions).\n",
        "By training the policy network in this way the corresponding RL student agent is taught to behave like the expert agent that was used to created the expert dataset (Behavior Cloning)."
      ]
    },
    {
      "cell_type": "code",
      "metadata": {
        "id": "PWobRbYSHmg4"
      },
      "source": [
        "# PPO parameters\n",
        "use_cuda = th.cuda.is_available()\n",
        "device   = th.device(\"cuda\" if use_cuda else \"cpu\")\n",
        "device\n",
        "\n",
        "policy_kwargs = {}\n",
        "policy_kwargs[\"net_arch\"] = [dict(pi=[400, 300, 200], vf=[400, 300, 200])]"
      ],
      "execution_count": 17,
      "outputs": []
    },
    {
      "cell_type": "code",
      "metadata": {
        "id": "D8F_Xj6iLOv1"
      },
      "source": [
        "ppo_student = PPO(\"MlpPolicy\", \n",
        "                  env, \n",
        "                  learning_rate = 0.001, # the original is 0.0003\n",
        "                  verbose=0, \n",
        "                  policy_kwargs=policy_kwargs,\n",
        "                  vf_coef=0.01\n",
        "                  )"
      ],
      "execution_count": 18,
      "outputs": []
    },
    {
      "cell_type": "code",
      "metadata": {
        "id": "gXTkxUql1F72"
      },
      "source": [
        "student = ppo_student"
      ],
      "execution_count": 19,
      "outputs": []
    },
    {
      "cell_type": "code",
      "metadata": {
        "id": "kkNyj8vDHTNr"
      },
      "source": [
        "def pretrain_agent(\n",
        "    student,\n",
        "    batch_size=64,\n",
        "    epochs=1000,\n",
        "    scheduler_gamma=0.7,\n",
        "    learning_rate=1.0,\n",
        "    log_interval=100,\n",
        "    no_cuda=True,\n",
        "    seed=1,\n",
        "    test_batch_size=64,\n",
        "):\n",
        "    use_cuda = not no_cuda and th.cuda.is_available()\n",
        "    th.manual_seed(seed)\n",
        "    device = th.device(\"cuda\" if use_cuda else \"cpu\")\n",
        "    kwargs = {\"num_workers\": 1, \"pin_memory\": True} if use_cuda else {}\n",
        "\n",
        "    if isinstance(env.action_space, gym.spaces.Box):\n",
        "      criterion = nn.MSELoss()\n",
        "    else:\n",
        "      criterion = nn.CrossEntropyLoss()\n",
        "\n",
        "    # Extract initial policy\n",
        "    model = student.policy.to(device)\n",
        "\n",
        "    def train(model, device, train_loader, optimizer):\n",
        "        model.train()\n",
        "\n",
        "        for batch_idx, (data, target) in enumerate(train_loader):\n",
        "            data, target = data.to(device), target.to(device)\n",
        "            optimizer.zero_grad()\n",
        "\n",
        "            if isinstance(env.action_space, gym.spaces.Box):\n",
        "              # A2C/PPO policy outputs actions, values, log_prob\n",
        "              # SAC/TD3 policy outputs actions only\n",
        "              if isinstance(student, (A2C, PPO)):\n",
        "                action, _, _ = model(data)\n",
        "              else:\n",
        "                # SAC/TD3:\n",
        "                action = model(data)\n",
        "              action_prediction = action.double()\n",
        "            else:\n",
        "              # Retrieve the logits for A2C/PPO when using discrete actions\n",
        "              latent_pi, _, _ = model._get_latent(data)\n",
        "              logits = model.action_net(latent_pi)\n",
        "              action_prediction = logits\n",
        "              target = target.long()\n",
        "\n",
        "            loss = criterion(action_prediction, target)\n",
        "            loss.backward()\n",
        "            optimizer.step()\n",
        "            if batch_idx % log_interval == 0:\n",
        "                print(\n",
        "                    \"Train Epoch: {} [{}/{} ({:.0f}%)]\\tLoss: {:.6f}\".format(\n",
        "                        epoch,\n",
        "                        batch_idx * len(data),\n",
        "                        len(train_loader.dataset),\n",
        "                        100.0 * batch_idx / len(train_loader),\n",
        "                        loss.item(),\n",
        "                    )\n",
        "                )\n",
        "    def test(model, device, test_loader):\n",
        "        model.eval()\n",
        "        test_loss = 0\n",
        "        with th.no_grad():\n",
        "            for data, target in test_loader:\n",
        "                data, target = data.to(device), target.to(device)\n",
        "\n",
        "                if isinstance(env.action_space, gym.spaces.Box):\n",
        "                  # A2C/PPO policy outputs actions, values, log_prob\n",
        "                  # SAC/TD3 policy outputs actions only\n",
        "                  if isinstance(student, (A2C, PPO)):\n",
        "                    action, _, _ = model(data)\n",
        "                  else:\n",
        "                    # SAC/TD3:\n",
        "                    action = model(data)\n",
        "                  action_prediction = action.double()\n",
        "                else:\n",
        "                  # Retrieve the logits for A2C/PPO when using discrete actions\n",
        "                  latent_pi, _, _ = model._get_latent(data)\n",
        "                  logits = model.action_net(latent_pi)\n",
        "                  action_prediction = logits\n",
        "                  target = target.long()\n",
        "\n",
        "                test_loss = criterion(action_prediction, target)\n",
        "        test_loss /= len(test_loader.dataset)\n",
        "        print(f\"Test set: Average loss: {test_loss:.4f}\")\n",
        "\n",
        "    # Here, we use PyTorch `DataLoader` to our load previously created `ExpertDataset` for training\n",
        "    # and testing\n",
        "    train_loader = th.utils.data.DataLoader(\n",
        "        dataset=train_expert_dataset, batch_size=batch_size, shuffle=True, **kwargs\n",
        "    )\n",
        "    test_loader = th.utils.data.DataLoader(\n",
        "        dataset=test_expert_dataset, batch_size=test_batch_size, shuffle=True, **kwargs,\n",
        "    )\n",
        "\n",
        "    # Define an Optimizer and a learning rate schedule.\n",
        "    optimizer = optim.Adadelta(model.parameters(), lr=learning_rate)\n",
        "    scheduler = StepLR(optimizer, step_size=1, gamma=scheduler_gamma)\n",
        "\n",
        "    # Now we are finally ready to train the policy model.\n",
        "    for epoch in range(1, epochs + 1):\n",
        "        train(model, device, train_loader, optimizer)\n",
        "        test(model, device, test_loader)\n",
        "        scheduler.step()\n",
        "\n",
        "    # Implant the trained policy network back into the RL student agent\n",
        "    student.policy = model"
      ],
      "execution_count": 20,
      "outputs": []
    },
    {
      "cell_type": "code",
      "metadata": {
        "colab": {
          "base_uri": "https://localhost:8080/"
        },
        "id": "R0JhNqMrHTaL",
        "outputId": "78289bbf-4444-45fd-b1da-450fbd4f0329"
      },
      "source": [
        "mean_reward, std_reward = evaluate_policy(student, env, n_eval_episodes=1)\n",
        "\n",
        "print(f\"Mean reward = {mean_reward} +/- {std_reward}\")"
      ],
      "execution_count": 21,
      "outputs": [
        {
          "output_type": "stream",
          "text": [
            "/usr/local/lib/python3.7/dist-packages/stable_baselines3/common/evaluation.py:69: UserWarning: Evaluation environment is not wrapped with a ``Monitor`` wrapper. This may result in reporting modified episode lengths and rewards, if other wrappers happen to modify these. Consider wrapping environment first with ``Monitor`` wrapper.\n",
            "  UserWarning,\n"
          ],
          "name": "stderr"
        },
        {
          "output_type": "stream",
          "text": [
            "Cumulated reward: -68673693898.44089\n",
            "Cost score: {'ramping': 0.87413293, '1-load_factor': 1.0744374909313852, 'average_daily_peak': 1.0314146, 'peak_demand': 1.245058, 'net_electricity_consumption': 1.0146086, 'total': 1.0479303224546181}\n",
            "Mean reward = -68673693898.44089 +/- 0.0\n"
          ],
          "name": "stdout"
        }
      ]
    },
    {
      "cell_type": "code",
      "metadata": {
        "colab": {
          "base_uri": "https://localhost:8080/"
        },
        "id": "RKVY6KQNImX1",
        "outputId": "733358c8-280a-46ea-cae6-87462d335d39"
      },
      "source": [
        "pretrain_agent(\n",
        "    student,\n",
        "    epochs=20,\n",
        "    scheduler_gamma=0.7,\n",
        "    learning_rate=1.0,\n",
        "    log_interval=100,\n",
        "    no_cuda=True,\n",
        "    seed=1,\n",
        "    batch_size=64,\n",
        "    test_batch_size=1000,\n",
        ")"
      ],
      "execution_count": 22,
      "outputs": [
        {
          "output_type": "stream",
          "text": [
            "Train Epoch: 1 [0/84096 (0%)]\tLoss: 1.084771\n",
            "Train Epoch: 1 [6400/84096 (8%)]\tLoss: 0.610512\n",
            "Train Epoch: 1 [12800/84096 (15%)]\tLoss: 0.317643\n",
            "Train Epoch: 1 [19200/84096 (23%)]\tLoss: 0.178970\n",
            "Train Epoch: 1 [25600/84096 (30%)]\tLoss: 0.100780\n",
            "Train Epoch: 1 [32000/84096 (38%)]\tLoss: 0.061510\n",
            "Train Epoch: 1 [38400/84096 (46%)]\tLoss: 0.037095\n",
            "Train Epoch: 1 [44800/84096 (53%)]\tLoss: 0.023119\n",
            "Train Epoch: 1 [51200/84096 (61%)]\tLoss: 0.014156\n",
            "Train Epoch: 1 [57600/84096 (68%)]\tLoss: 0.011501\n",
            "Train Epoch: 1 [64000/84096 (76%)]\tLoss: 0.010038\n",
            "Train Epoch: 1 [70400/84096 (84%)]\tLoss: 0.007078\n",
            "Train Epoch: 1 [76800/84096 (91%)]\tLoss: 0.006272\n",
            "Train Epoch: 1 [83200/84096 (99%)]\tLoss: 0.006045\n",
            "Test set: Average loss: 0.0000\n",
            "Train Epoch: 2 [0/84096 (0%)]\tLoss: 0.005802\n",
            "Train Epoch: 2 [6400/84096 (8%)]\tLoss: 0.005893\n",
            "Train Epoch: 2 [12800/84096 (15%)]\tLoss: 0.004918\n",
            "Train Epoch: 2 [19200/84096 (23%)]\tLoss: 0.004684\n",
            "Train Epoch: 2 [25600/84096 (30%)]\tLoss: 0.004619\n",
            "Train Epoch: 2 [32000/84096 (38%)]\tLoss: 0.004098\n",
            "Train Epoch: 2 [38400/84096 (46%)]\tLoss: 0.004032\n",
            "Train Epoch: 2 [44800/84096 (53%)]\tLoss: 0.003271\n",
            "Train Epoch: 2 [51200/84096 (61%)]\tLoss: 0.003525\n",
            "Train Epoch: 2 [57600/84096 (68%)]\tLoss: 0.003131\n",
            "Train Epoch: 2 [64000/84096 (76%)]\tLoss: 0.002736\n",
            "Train Epoch: 2 [70400/84096 (84%)]\tLoss: 0.003318\n",
            "Train Epoch: 2 [76800/84096 (91%)]\tLoss: 0.002737\n",
            "Train Epoch: 2 [83200/84096 (99%)]\tLoss: 0.002729\n",
            "Test set: Average loss: 0.0000\n",
            "Train Epoch: 3 [0/84096 (0%)]\tLoss: 0.003850\n",
            "Train Epoch: 3 [6400/84096 (8%)]\tLoss: 0.002846\n",
            "Train Epoch: 3 [12800/84096 (15%)]\tLoss: 0.002703\n",
            "Train Epoch: 3 [19200/84096 (23%)]\tLoss: 0.002327\n",
            "Train Epoch: 3 [25600/84096 (30%)]\tLoss: 0.002345\n",
            "Train Epoch: 3 [32000/84096 (38%)]\tLoss: 0.002656\n",
            "Train Epoch: 3 [38400/84096 (46%)]\tLoss: 0.002397\n",
            "Train Epoch: 3 [44800/84096 (53%)]\tLoss: 0.002520\n",
            "Train Epoch: 3 [51200/84096 (61%)]\tLoss: 0.002367\n",
            "Train Epoch: 3 [57600/84096 (68%)]\tLoss: 0.001996\n",
            "Train Epoch: 3 [64000/84096 (76%)]\tLoss: 0.001956\n",
            "Train Epoch: 3 [70400/84096 (84%)]\tLoss: 0.001963\n",
            "Train Epoch: 3 [76800/84096 (91%)]\tLoss: 0.002578\n",
            "Train Epoch: 3 [83200/84096 (99%)]\tLoss: 0.002073\n",
            "Test set: Average loss: 0.0000\n",
            "Train Epoch: 4 [0/84096 (0%)]\tLoss: 0.002177\n",
            "Train Epoch: 4 [6400/84096 (8%)]\tLoss: 0.002087\n",
            "Train Epoch: 4 [12800/84096 (15%)]\tLoss: 0.002047\n",
            "Train Epoch: 4 [19200/84096 (23%)]\tLoss: 0.002090\n",
            "Train Epoch: 4 [25600/84096 (30%)]\tLoss: 0.001904\n",
            "Train Epoch: 4 [32000/84096 (38%)]\tLoss: 0.001793\n",
            "Train Epoch: 4 [38400/84096 (46%)]\tLoss: 0.001911\n",
            "Train Epoch: 4 [44800/84096 (53%)]\tLoss: 0.001823\n",
            "Train Epoch: 4 [51200/84096 (61%)]\tLoss: 0.001765\n",
            "Train Epoch: 4 [57600/84096 (68%)]\tLoss: 0.001608\n",
            "Train Epoch: 4 [64000/84096 (76%)]\tLoss: 0.001713\n",
            "Train Epoch: 4 [70400/84096 (84%)]\tLoss: 0.002167\n",
            "Train Epoch: 4 [76800/84096 (91%)]\tLoss: 0.001681\n",
            "Train Epoch: 4 [83200/84096 (99%)]\tLoss: 0.001612\n",
            "Test set: Average loss: 0.0000\n",
            "Train Epoch: 5 [0/84096 (0%)]\tLoss: 0.001640\n",
            "Train Epoch: 5 [6400/84096 (8%)]\tLoss: 0.001444\n",
            "Train Epoch: 5 [12800/84096 (15%)]\tLoss: 0.001714\n",
            "Train Epoch: 5 [19200/84096 (23%)]\tLoss: 0.001868\n",
            "Train Epoch: 5 [25600/84096 (30%)]\tLoss: 0.001858\n",
            "Train Epoch: 5 [32000/84096 (38%)]\tLoss: 0.001665\n",
            "Train Epoch: 5 [38400/84096 (46%)]\tLoss: 0.001615\n",
            "Train Epoch: 5 [44800/84096 (53%)]\tLoss: 0.001303\n",
            "Train Epoch: 5 [51200/84096 (61%)]\tLoss: 0.001357\n",
            "Train Epoch: 5 [57600/84096 (68%)]\tLoss: 0.001408\n",
            "Train Epoch: 5 [64000/84096 (76%)]\tLoss: 0.001313\n",
            "Train Epoch: 5 [70400/84096 (84%)]\tLoss: 0.001564\n",
            "Train Epoch: 5 [76800/84096 (91%)]\tLoss: 0.001427\n",
            "Train Epoch: 5 [83200/84096 (99%)]\tLoss: 0.001284\n",
            "Test set: Average loss: 0.0000\n",
            "Train Epoch: 6 [0/84096 (0%)]\tLoss: 0.001595\n",
            "Train Epoch: 6 [6400/84096 (8%)]\tLoss: 0.001420\n",
            "Train Epoch: 6 [12800/84096 (15%)]\tLoss: 0.001689\n",
            "Train Epoch: 6 [19200/84096 (23%)]\tLoss: 0.001317\n",
            "Train Epoch: 6 [25600/84096 (30%)]\tLoss: 0.001592\n",
            "Train Epoch: 6 [32000/84096 (38%)]\tLoss: 0.001382\n",
            "Train Epoch: 6 [38400/84096 (46%)]\tLoss: 0.001372\n",
            "Train Epoch: 6 [44800/84096 (53%)]\tLoss: 0.001263\n",
            "Train Epoch: 6 [51200/84096 (61%)]\tLoss: 0.001577\n",
            "Train Epoch: 6 [57600/84096 (68%)]\tLoss: 0.001390\n",
            "Train Epoch: 6 [64000/84096 (76%)]\tLoss: 0.001433\n",
            "Train Epoch: 6 [70400/84096 (84%)]\tLoss: 0.001209\n",
            "Train Epoch: 6 [76800/84096 (91%)]\tLoss: 0.001328\n",
            "Train Epoch: 6 [83200/84096 (99%)]\tLoss: 0.001675\n",
            "Test set: Average loss: 0.0000\n",
            "Train Epoch: 7 [0/84096 (0%)]\tLoss: 0.001327\n",
            "Train Epoch: 7 [6400/84096 (8%)]\tLoss: 0.001338\n",
            "Train Epoch: 7 [12800/84096 (15%)]\tLoss: 0.001649\n",
            "Train Epoch: 7 [19200/84096 (23%)]\tLoss: 0.001275\n",
            "Train Epoch: 7 [25600/84096 (30%)]\tLoss: 0.001179\n",
            "Train Epoch: 7 [32000/84096 (38%)]\tLoss: 0.001205\n",
            "Train Epoch: 7 [38400/84096 (46%)]\tLoss: 0.001262\n",
            "Train Epoch: 7 [44800/84096 (53%)]\tLoss: 0.001160\n",
            "Train Epoch: 7 [51200/84096 (61%)]\tLoss: 0.001634\n",
            "Train Epoch: 7 [57600/84096 (68%)]\tLoss: 0.001482\n",
            "Train Epoch: 7 [64000/84096 (76%)]\tLoss: 0.001492\n",
            "Train Epoch: 7 [70400/84096 (84%)]\tLoss: 0.001317\n",
            "Train Epoch: 7 [76800/84096 (91%)]\tLoss: 0.001544\n",
            "Train Epoch: 7 [83200/84096 (99%)]\tLoss: 0.001238\n",
            "Test set: Average loss: 0.0000\n",
            "Train Epoch: 8 [0/84096 (0%)]\tLoss: 0.001221\n",
            "Train Epoch: 8 [6400/84096 (8%)]\tLoss: 0.001804\n",
            "Train Epoch: 8 [12800/84096 (15%)]\tLoss: 0.001341\n",
            "Train Epoch: 8 [19200/84096 (23%)]\tLoss: 0.001205\n",
            "Train Epoch: 8 [25600/84096 (30%)]\tLoss: 0.001480\n",
            "Train Epoch: 8 [32000/84096 (38%)]\tLoss: 0.001175\n",
            "Train Epoch: 8 [38400/84096 (46%)]\tLoss: 0.001478\n",
            "Train Epoch: 8 [44800/84096 (53%)]\tLoss: 0.001190\n",
            "Train Epoch: 8 [51200/84096 (61%)]\tLoss: 0.001285\n",
            "Train Epoch: 8 [57600/84096 (68%)]\tLoss: 0.001280\n",
            "Train Epoch: 8 [64000/84096 (76%)]\tLoss: 0.001221\n",
            "Train Epoch: 8 [70400/84096 (84%)]\tLoss: 0.001158\n",
            "Train Epoch: 8 [76800/84096 (91%)]\tLoss: 0.001288\n",
            "Train Epoch: 8 [83200/84096 (99%)]\tLoss: 0.001382\n",
            "Test set: Average loss: 0.0000\n",
            "Train Epoch: 9 [0/84096 (0%)]\tLoss: 0.001143\n",
            "Train Epoch: 9 [6400/84096 (8%)]\tLoss: 0.001245\n",
            "Train Epoch: 9 [12800/84096 (15%)]\tLoss: 0.001152\n",
            "Train Epoch: 9 [19200/84096 (23%)]\tLoss: 0.001397\n",
            "Train Epoch: 9 [25600/84096 (30%)]\tLoss: 0.001431\n",
            "Train Epoch: 9 [32000/84096 (38%)]\tLoss: 0.001484\n",
            "Train Epoch: 9 [38400/84096 (46%)]\tLoss: 0.001186\n",
            "Train Epoch: 9 [44800/84096 (53%)]\tLoss: 0.001158\n",
            "Train Epoch: 9 [51200/84096 (61%)]\tLoss: 0.001341\n",
            "Train Epoch: 9 [57600/84096 (68%)]\tLoss: 0.001112\n",
            "Train Epoch: 9 [64000/84096 (76%)]\tLoss: 0.001359\n",
            "Train Epoch: 9 [70400/84096 (84%)]\tLoss: 0.001142\n",
            "Train Epoch: 9 [76800/84096 (91%)]\tLoss: 0.001148\n",
            "Train Epoch: 9 [83200/84096 (99%)]\tLoss: 0.001199\n",
            "Test set: Average loss: 0.0000\n",
            "Train Epoch: 10 [0/84096 (0%)]\tLoss: 0.001421\n",
            "Train Epoch: 10 [6400/84096 (8%)]\tLoss: 0.001465\n",
            "Train Epoch: 10 [12800/84096 (15%)]\tLoss: 0.001433\n",
            "Train Epoch: 10 [19200/84096 (23%)]\tLoss: 0.001275\n",
            "Train Epoch: 10 [25600/84096 (30%)]\tLoss: 0.001122\n",
            "Train Epoch: 10 [32000/84096 (38%)]\tLoss: 0.001290\n",
            "Train Epoch: 10 [38400/84096 (46%)]\tLoss: 0.001229\n",
            "Train Epoch: 10 [44800/84096 (53%)]\tLoss: 0.001278\n",
            "Train Epoch: 10 [51200/84096 (61%)]\tLoss: 0.001153\n",
            "Train Epoch: 10 [57600/84096 (68%)]\tLoss: 0.001506\n",
            "Train Epoch: 10 [64000/84096 (76%)]\tLoss: 0.001145\n",
            "Train Epoch: 10 [70400/84096 (84%)]\tLoss: 0.001158\n",
            "Train Epoch: 10 [76800/84096 (91%)]\tLoss: 0.001183\n",
            "Train Epoch: 10 [83200/84096 (99%)]\tLoss: 0.001209\n",
            "Test set: Average loss: 0.0000\n",
            "Train Epoch: 11 [0/84096 (0%)]\tLoss: 0.001059\n",
            "Train Epoch: 11 [6400/84096 (8%)]\tLoss: 0.001072\n",
            "Train Epoch: 11 [12800/84096 (15%)]\tLoss: 0.001225\n",
            "Train Epoch: 11 [19200/84096 (23%)]\tLoss: 0.001214\n",
            "Train Epoch: 11 [25600/84096 (30%)]\tLoss: 0.001283\n",
            "Train Epoch: 11 [32000/84096 (38%)]\tLoss: 0.001634\n",
            "Train Epoch: 11 [38400/84096 (46%)]\tLoss: 0.001459\n",
            "Train Epoch: 11 [44800/84096 (53%)]\tLoss: 0.001218\n",
            "Train Epoch: 11 [51200/84096 (61%)]\tLoss: 0.001398\n",
            "Train Epoch: 11 [57600/84096 (68%)]\tLoss: 0.001401\n",
            "Train Epoch: 11 [64000/84096 (76%)]\tLoss: 0.001147\n",
            "Train Epoch: 11 [70400/84096 (84%)]\tLoss: 0.001098\n",
            "Train Epoch: 11 [76800/84096 (91%)]\tLoss: 0.001139\n",
            "Train Epoch: 11 [83200/84096 (99%)]\tLoss: 0.001249\n",
            "Test set: Average loss: 0.0000\n",
            "Train Epoch: 12 [0/84096 (0%)]\tLoss: 0.001080\n",
            "Train Epoch: 12 [6400/84096 (8%)]\tLoss: 0.001170\n",
            "Train Epoch: 12 [12800/84096 (15%)]\tLoss: 0.001342\n",
            "Train Epoch: 12 [19200/84096 (23%)]\tLoss: 0.001612\n",
            "Train Epoch: 12 [25600/84096 (30%)]\tLoss: 0.001091\n",
            "Train Epoch: 12 [32000/84096 (38%)]\tLoss: 0.001234\n",
            "Train Epoch: 12 [38400/84096 (46%)]\tLoss: 0.001281\n",
            "Train Epoch: 12 [44800/84096 (53%)]\tLoss: 0.001017\n",
            "Train Epoch: 12 [51200/84096 (61%)]\tLoss: 0.001167\n",
            "Train Epoch: 12 [57600/84096 (68%)]\tLoss: 0.001605\n",
            "Train Epoch: 12 [64000/84096 (76%)]\tLoss: 0.001032\n",
            "Train Epoch: 12 [70400/84096 (84%)]\tLoss: 0.001472\n",
            "Train Epoch: 12 [76800/84096 (91%)]\tLoss: 0.001158\n",
            "Train Epoch: 12 [83200/84096 (99%)]\tLoss: 0.001336\n",
            "Test set: Average loss: 0.0000\n",
            "Train Epoch: 13 [0/84096 (0%)]\tLoss: 0.001092\n",
            "Train Epoch: 13 [6400/84096 (8%)]\tLoss: 0.001517\n",
            "Train Epoch: 13 [12800/84096 (15%)]\tLoss: 0.001158\n",
            "Train Epoch: 13 [19200/84096 (23%)]\tLoss: 0.001078\n",
            "Train Epoch: 13 [25600/84096 (30%)]\tLoss: 0.001140\n",
            "Train Epoch: 13 [32000/84096 (38%)]\tLoss: 0.001550\n",
            "Train Epoch: 13 [38400/84096 (46%)]\tLoss: 0.001607\n",
            "Train Epoch: 13 [44800/84096 (53%)]\tLoss: 0.001200\n",
            "Train Epoch: 13 [51200/84096 (61%)]\tLoss: 0.001147\n",
            "Train Epoch: 13 [57600/84096 (68%)]\tLoss: 0.001377\n",
            "Train Epoch: 13 [64000/84096 (76%)]\tLoss: 0.001098\n",
            "Train Epoch: 13 [70400/84096 (84%)]\tLoss: 0.001298\n",
            "Train Epoch: 13 [76800/84096 (91%)]\tLoss: 0.001315\n",
            "Train Epoch: 13 [83200/84096 (99%)]\tLoss: 0.001355\n",
            "Test set: Average loss: 0.0000\n",
            "Train Epoch: 14 [0/84096 (0%)]\tLoss: 0.001089\n",
            "Train Epoch: 14 [6400/84096 (8%)]\tLoss: 0.001534\n",
            "Train Epoch: 14 [12800/84096 (15%)]\tLoss: 0.001218\n",
            "Train Epoch: 14 [19200/84096 (23%)]\tLoss: 0.001089\n",
            "Train Epoch: 14 [25600/84096 (30%)]\tLoss: 0.001098\n",
            "Train Epoch: 14 [32000/84096 (38%)]\tLoss: 0.001182\n",
            "Train Epoch: 14 [38400/84096 (46%)]\tLoss: 0.001221\n",
            "Train Epoch: 14 [44800/84096 (53%)]\tLoss: 0.001138\n",
            "Train Epoch: 14 [51200/84096 (61%)]\tLoss: 0.001713\n",
            "Train Epoch: 14 [57600/84096 (68%)]\tLoss: 0.001510\n",
            "Train Epoch: 14 [64000/84096 (76%)]\tLoss: 0.001360\n",
            "Train Epoch: 14 [70400/84096 (84%)]\tLoss: 0.001199\n",
            "Train Epoch: 14 [76800/84096 (91%)]\tLoss: 0.001365\n",
            "Train Epoch: 14 [83200/84096 (99%)]\tLoss: 0.001248\n",
            "Test set: Average loss: 0.0000\n",
            "Train Epoch: 15 [0/84096 (0%)]\tLoss: 0.001181\n",
            "Train Epoch: 15 [6400/84096 (8%)]\tLoss: 0.001510\n",
            "Train Epoch: 15 [12800/84096 (15%)]\tLoss: 0.001195\n",
            "Train Epoch: 15 [19200/84096 (23%)]\tLoss: 0.001202\n",
            "Train Epoch: 15 [25600/84096 (30%)]\tLoss: 0.001407\n",
            "Train Epoch: 15 [32000/84096 (38%)]\tLoss: 0.001090\n",
            "Train Epoch: 15 [38400/84096 (46%)]\tLoss: 0.001114\n",
            "Train Epoch: 15 [44800/84096 (53%)]\tLoss: 0.001313\n",
            "Train Epoch: 15 [51200/84096 (61%)]\tLoss: 0.001107\n",
            "Train Epoch: 15 [57600/84096 (68%)]\tLoss: 0.001139\n",
            "Train Epoch: 15 [64000/84096 (76%)]\tLoss: 0.001140\n",
            "Train Epoch: 15 [70400/84096 (84%)]\tLoss: 0.001141\n",
            "Train Epoch: 15 [76800/84096 (91%)]\tLoss: 0.001854\n",
            "Train Epoch: 15 [83200/84096 (99%)]\tLoss: 0.001044\n",
            "Test set: Average loss: 0.0000\n",
            "Train Epoch: 16 [0/84096 (0%)]\tLoss: 0.001179\n",
            "Train Epoch: 16 [6400/84096 (8%)]\tLoss: 0.001368\n",
            "Train Epoch: 16 [12800/84096 (15%)]\tLoss: 0.001529\n",
            "Train Epoch: 16 [19200/84096 (23%)]\tLoss: 0.000990\n",
            "Train Epoch: 16 [25600/84096 (30%)]\tLoss: 0.001175\n",
            "Train Epoch: 16 [32000/84096 (38%)]\tLoss: 0.001388\n",
            "Train Epoch: 16 [38400/84096 (46%)]\tLoss: 0.001023\n",
            "Train Epoch: 16 [44800/84096 (53%)]\tLoss: 0.001227\n",
            "Train Epoch: 16 [51200/84096 (61%)]\tLoss: 0.001203\n",
            "Train Epoch: 16 [57600/84096 (68%)]\tLoss: 0.001197\n",
            "Train Epoch: 16 [64000/84096 (76%)]\tLoss: 0.001083\n",
            "Train Epoch: 16 [70400/84096 (84%)]\tLoss: 0.001378\n",
            "Train Epoch: 16 [76800/84096 (91%)]\tLoss: 0.001082\n",
            "Train Epoch: 16 [83200/84096 (99%)]\tLoss: 0.001143\n",
            "Test set: Average loss: 0.0000\n",
            "Train Epoch: 17 [0/84096 (0%)]\tLoss: 0.001093\n",
            "Train Epoch: 17 [6400/84096 (8%)]\tLoss: 0.001085\n",
            "Train Epoch: 17 [12800/84096 (15%)]\tLoss: 0.001362\n",
            "Train Epoch: 17 [19200/84096 (23%)]\tLoss: 0.001321\n",
            "Train Epoch: 17 [25600/84096 (30%)]\tLoss: 0.001269\n",
            "Train Epoch: 17 [32000/84096 (38%)]\tLoss: 0.001171\n",
            "Train Epoch: 17 [38400/84096 (46%)]\tLoss: 0.001103\n",
            "Train Epoch: 17 [44800/84096 (53%)]\tLoss: 0.001174\n",
            "Train Epoch: 17 [51200/84096 (61%)]\tLoss: 0.001050\n",
            "Train Epoch: 17 [57600/84096 (68%)]\tLoss: 0.000949\n",
            "Train Epoch: 17 [64000/84096 (76%)]\tLoss: 0.001226\n",
            "Train Epoch: 17 [70400/84096 (84%)]\tLoss: 0.001669\n",
            "Train Epoch: 17 [76800/84096 (91%)]\tLoss: 0.001129\n",
            "Train Epoch: 17 [83200/84096 (99%)]\tLoss: 0.001103\n",
            "Test set: Average loss: 0.0000\n",
            "Train Epoch: 18 [0/84096 (0%)]\tLoss: 0.001087\n",
            "Train Epoch: 18 [6400/84096 (8%)]\tLoss: 0.001502\n",
            "Train Epoch: 18 [12800/84096 (15%)]\tLoss: 0.001396\n",
            "Train Epoch: 18 [19200/84096 (23%)]\tLoss: 0.001069\n",
            "Train Epoch: 18 [25600/84096 (30%)]\tLoss: 0.001132\n",
            "Train Epoch: 18 [32000/84096 (38%)]\tLoss: 0.001097\n",
            "Train Epoch: 18 [38400/84096 (46%)]\tLoss: 0.001288\n",
            "Train Epoch: 18 [44800/84096 (53%)]\tLoss: 0.001100\n",
            "Train Epoch: 18 [51200/84096 (61%)]\tLoss: 0.001170\n",
            "Train Epoch: 18 [57600/84096 (68%)]\tLoss: 0.001176\n",
            "Train Epoch: 18 [64000/84096 (76%)]\tLoss: 0.001046\n",
            "Train Epoch: 18 [70400/84096 (84%)]\tLoss: 0.001463\n",
            "Train Epoch: 18 [76800/84096 (91%)]\tLoss: 0.001445\n",
            "Train Epoch: 18 [83200/84096 (99%)]\tLoss: 0.001148\n",
            "Test set: Average loss: 0.0000\n",
            "Train Epoch: 19 [0/84096 (0%)]\tLoss: 0.001750\n",
            "Train Epoch: 19 [6400/84096 (8%)]\tLoss: 0.001040\n",
            "Train Epoch: 19 [12800/84096 (15%)]\tLoss: 0.001085\n",
            "Train Epoch: 19 [19200/84096 (23%)]\tLoss: 0.001261\n",
            "Train Epoch: 19 [25600/84096 (30%)]\tLoss: 0.001209\n",
            "Train Epoch: 19 [32000/84096 (38%)]\tLoss: 0.001133\n",
            "Train Epoch: 19 [38400/84096 (46%)]\tLoss: 0.001252\n",
            "Train Epoch: 19 [44800/84096 (53%)]\tLoss: 0.001187\n",
            "Train Epoch: 19 [51200/84096 (61%)]\tLoss: 0.001158\n",
            "Train Epoch: 19 [57600/84096 (68%)]\tLoss: 0.001068\n",
            "Train Epoch: 19 [64000/84096 (76%)]\tLoss: 0.001152\n",
            "Train Epoch: 19 [70400/84096 (84%)]\tLoss: 0.001484\n",
            "Train Epoch: 19 [76800/84096 (91%)]\tLoss: 0.001174\n",
            "Train Epoch: 19 [83200/84096 (99%)]\tLoss: 0.001484\n",
            "Test set: Average loss: 0.0000\n",
            "Train Epoch: 20 [0/84096 (0%)]\tLoss: 0.001051\n",
            "Train Epoch: 20 [6400/84096 (8%)]\tLoss: 0.001576\n",
            "Train Epoch: 20 [12800/84096 (15%)]\tLoss: 0.001191\n",
            "Train Epoch: 20 [19200/84096 (23%)]\tLoss: 0.001191\n",
            "Train Epoch: 20 [25600/84096 (30%)]\tLoss: 0.001185\n",
            "Train Epoch: 20 [32000/84096 (38%)]\tLoss: 0.001224\n",
            "Train Epoch: 20 [38400/84096 (46%)]\tLoss: 0.001076\n",
            "Train Epoch: 20 [44800/84096 (53%)]\tLoss: 0.001103\n",
            "Train Epoch: 20 [51200/84096 (61%)]\tLoss: 0.001183\n",
            "Train Epoch: 20 [57600/84096 (68%)]\tLoss: 0.001183\n",
            "Train Epoch: 20 [64000/84096 (76%)]\tLoss: 0.001246\n",
            "Train Epoch: 20 [70400/84096 (84%)]\tLoss: 0.001542\n",
            "Train Epoch: 20 [76800/84096 (91%)]\tLoss: 0.001205\n",
            "Train Epoch: 20 [83200/84096 (99%)]\tLoss: 0.001133\n",
            "Test set: Average loss: 0.0000\n"
          ],
          "name": "stdout"
        }
      ]
    },
    {
      "cell_type": "code",
      "metadata": {
        "id": "OP8i6lAm1YK9"
      },
      "source": [
        "# save the pretrained model\n",
        "dumpname = type(student).__name__ + \"_student\"\n",
        "student.save(dumpname)"
      ],
      "execution_count": 23,
      "outputs": []
    },
    {
      "cell_type": "code",
      "metadata": {
        "colab": {
          "base_uri": "https://localhost:8080/"
        },
        "id": "o-3rC0UWJGlm",
        "outputId": "7b4ff727-b894-46d1-abce-9f43e5d20340"
      },
      "source": [
        "mean_reward, std_reward = evaluate_policy(student, env, n_eval_episodes=1)\n",
        "\n",
        "print(f\"Mean reward = {mean_reward} +/- {std_reward}\")"
      ],
      "execution_count": 24,
      "outputs": [
        {
          "output_type": "stream",
          "text": [
            "/usr/local/lib/python3.7/dist-packages/stable_baselines3/common/evaluation.py:69: UserWarning: Evaluation environment is not wrapped with a ``Monitor`` wrapper. This may result in reporting modified episode lengths and rewards, if other wrappers happen to modify these. Consider wrapping environment first with ``Monitor`` wrapper.\n",
            "  UserWarning,\n"
          ],
          "name": "stderr"
        },
        {
          "output_type": "stream",
          "text": [
            "Cumulated reward: -51321315674.930565\n",
            "Cost score: {'ramping': 0.9690853, '1-load_factor': 0.9853203442133065, 'average_daily_peak': 0.97398436, 'peak_demand': 0.9924088, 'net_electricity_consumption': 0.9998787, 'total': 0.9841354995257973}\n",
            "Mean reward = -51321315674.930565 +/- 0.0\n"
          ],
          "name": "stdout"
        }
      ]
    },
    {
      "cell_type": "code",
      "metadata": {
        "id": "Tj4F77KL3dpr"
      },
      "source": [
        "# load from the dumped file.\n",
        "student = type(student).load(dumpname)"
      ],
      "execution_count": 25,
      "outputs": []
    },
    {
      "cell_type": "markdown",
      "metadata": {
        "id": "V6o-uuOoYKKs"
      },
      "source": [
        "## Additional training from the pre-trained policy weights"
      ]
    },
    {
      "cell_type": "code",
      "metadata": {
        "id": "pyP2cDayYIRn"
      },
      "source": [
        "def eval_policy(env, ppo_student, deterministic=True):\n",
        "    state = env.reset()\n",
        "    done = False\n",
        "\n",
        "    cum_reward = []\n",
        "    action_hist = []\n",
        "    hours = []\n",
        "    i = 0\n",
        "\n",
        "    while not done:\n",
        "        action, _state = ppo_student.predict(state, deterministic=deterministic)\n",
        "        #action = np.array([0, 0])\n",
        "        #action = select_action(state)\n",
        "        hours.append(f\"{i}:\" + str(state[2]))\n",
        "        next_state, reward, done, _ = env.step(action)\n",
        "        \n",
        "        cum_reward.append(reward)\n",
        "        action_hist.append(action[0])\n",
        "\n",
        "        state = next_state\n",
        "        \n",
        "    cum_reward = np.array(cum_reward).sum()\n",
        "    cost = env.cost()\n",
        "\n",
        "    return cost, cum_reward, action_hist"
      ],
      "execution_count": 26,
      "outputs": []
    },
    {
      "cell_type": "code",
      "metadata": {
        "colab": {
          "base_uri": "https://localhost:8080/"
        },
        "id": "xdSqIRthKi8U",
        "outputId": "5307e594-54dd-4595-bc7e-1b1e01415059"
      },
      "source": [
        "student.set_env(env)\n",
        "# ppo_student.set_env(env)\n",
        "\n",
        "costs = []\n",
        "cum_rewards = []\n",
        "action_hists = []\n",
        "\n",
        "for epoch in range(12):\n",
        "    # Learn in one epcoch:year \n",
        "    student.learn(total_timesteps=8760)\n",
        "\n",
        "    # evaluate the cumulated reward and cost diterministically\n",
        "    # because, in the training process, the action is sampled from the distribution of policy.\n",
        "    # it might cause to underestimate the policy.\n",
        "    cost, cum_reward, action_hist = eval_policy(env, student)\n",
        "    costs.append(cost)\n",
        "    cum_rewards.append(cum_reward)\n",
        "    action_hists.append(action_hist)"
      ],
      "execution_count": 27,
      "outputs": [
        {
          "output_type": "stream",
          "text": [
            "Cumulated reward: -51720437193.64776\n",
            "Cost score: {'ramping': 0.9996511, '1-load_factor': 0.979206689117481, 'average_daily_peak': 0.9703268, 'peak_demand': 0.95199823, 'net_electricity_consumption': 1.0023632, 'total': 0.980709196710215}\n",
            "Cumulated reward: -51208470408.782974\n",
            "Cost score: {'ramping': 0.9629782, '1-load_factor': 0.9862806798145924, 'average_daily_peak': 0.96974015, 'peak_demand': 0.9965988, 'net_electricity_consumption': 0.99993664, 'total': 0.9831068873629125}\n",
            "Cumulated reward: -51632419585.746445\n",
            "Cost score: {'ramping': 0.9972075, '1-load_factor': 0.9858372206215398, 'average_daily_peak': 0.9695751, 'peak_demand': 0.9919972, 'net_electricity_consumption': 1.0022377, 'total': 0.9893709420109656}\n",
            "Cumulated reward: -51176889968.67682\n",
            "Cost score: {'ramping': 0.96005714, '1-load_factor': 0.9864453327915166, 'average_daily_peak': 0.96712047, 'peak_demand': 0.99604553, 'net_electricity_consumption': 0.9996745, 'total': 0.9818685939363856}\n",
            "Cumulated reward: -51763783117.93923\n",
            "Cost score: {'ramping': 1.0031132, '1-load_factor': 0.9886973836979125, 'average_daily_peak': 0.9726659, 'peak_demand': 0.97533375, 'net_electricity_consumption': 1.0020708, 'total': 0.9883761950127454}\n",
            "Cumulated reward: -51123446479.405075\n",
            "Cost score: {'ramping': 0.95954895, '1-load_factor': 0.9865737898250982, 'average_daily_peak': 0.96816826, 'peak_demand': 0.9943188, 'net_electricity_consumption': 0.99949867, 'total': 0.9816216894606861}\n",
            "Cumulated reward: -51612409975.26536\n",
            "Cost score: {'ramping': 1.000697, '1-load_factor': 0.9839747114088246, 'average_daily_peak': 0.96952516, 'peak_demand': 0.9794233, 'net_electricity_consumption': 1.0019243, 'total': 0.9871088894825402}\n",
            "Cumulated reward: -51096167138.68928\n",
            "Cost score: {'ramping': 0.9598745, '1-load_factor': 0.9864155520791684, 'average_daily_peak': 0.9675449, 'peak_demand': 0.9899814, 'net_electricity_consumption': 0.99922603, 'total': 0.980608484542268}\n",
            "Cumulated reward: -51505891029.27884\n",
            "Cost score: {'ramping': 0.9971065, '1-load_factor': 0.9833399129863747, 'average_daily_peak': 0.9664385, 'peak_demand': 0.979606, 'net_electricity_consumption': 1.00165, 'total': 0.9856281652640535}\n",
            "Cumulated reward: -51087064301.18034\n",
            "Cost score: {'ramping': 0.96142966, '1-load_factor': 0.9872637389122733, 'average_daily_peak': 0.9696328, 'peak_demand': 0.98497975, 'net_electricity_consumption': 0.99909586, 'total': 0.980480360945449}\n",
            "Cumulated reward: -51598958243.63183\n",
            "Cost score: {'ramping': 1.0031158, '1-load_factor': 0.9855632177461122, 'average_daily_peak': 0.97243625, 'peak_demand': 0.96718013, 'net_electricity_consumption': 1.0015534, 'total': 0.9859697578642553}\n",
            "Cumulated reward: -51071790721.11614\n",
            "Cost score: {'ramping': 0.9623871, '1-load_factor': 0.9878762064190589, 'average_daily_peak': 0.9705315, 'peak_demand': 0.9849521, 'net_electricity_consumption': 0.9990287, 'total': 0.9809551178974287}\n",
            "Cumulated reward: -51697977990.6907\n",
            "Cost score: {'ramping': 1.0094588, '1-load_factor': 0.9917208973069036, 'average_daily_peak': 0.9739195, 'peak_demand': 0.99172527, 'net_electricity_consumption': 1.0016212, 'total': 0.9936891401509254}\n",
            "Cumulated reward: -51155987731.92448\n",
            "Cost score: {'ramping': 0.9628294, '1-load_factor': 0.9904909649715641, 'average_daily_peak': 0.97134376, 'peak_demand': 0.98730403, 'net_electricity_consumption': 0.99885356, 'total': 0.9821643455669447}\n",
            "Cumulated reward: -51683815688.26082\n",
            "Cost score: {'ramping': 1.0023903, '1-load_factor': 0.9899320223834198, 'average_daily_peak': 0.9737434, 'peak_demand': 0.9694821, 'net_electricity_consumption': 1.0013925, 'total': 0.987388054905456}\n",
            "Cumulated reward: -51057474823.6085\n",
            "Cost score: {'ramping': 0.9577273, '1-load_factor': 0.9889198153211567, 'average_daily_peak': 0.9684312, 'peak_demand': 0.9900299, 'net_electricity_consumption': 0.99904096, 'total': 0.9808298271694559}\n",
            "Cumulated reward: -51607823052.649055\n",
            "Cost score: {'ramping': 1.0000243, '1-load_factor': 0.9905400006140886, 'average_daily_peak': 0.9710649, 'peak_demand': 0.9918164, 'net_electricity_consumption': 1.001472, 'total': 0.990983528458389}\n",
            "Cumulated reward: -50959876351.17612\n",
            "Cost score: {'ramping': 0.95165735, '1-load_factor': 0.9898065766749701, 'average_daily_peak': 0.96645004, 'peak_demand': 0.9917858, 'net_electricity_consumption': 0.9990278, 'total': 0.979745516003329}\n",
            "Cumulated reward: -51618865055.19806\n",
            "Cost score: {'ramping': 0.9992132, '1-load_factor': 0.9847162363667796, 'average_daily_peak': 0.9699483, 'peak_demand': 1.0234585, 'net_electricity_consumption': 1.0017147, 'total': 0.9958101868180336}\n",
            "Cumulated reward: -51010631608.47788\n",
            "Cost score: {'ramping': 0.95529556, '1-load_factor': 0.9906067670498366, 'average_daily_peak': 0.96857506, 'peak_demand': 0.9876726, 'net_electricity_consumption': 0.9989393, 'total': 0.9802178585750674}\n",
            "Cumulated reward: -51531161447.2732\n",
            "Cost score: {'ramping': 0.99877363, '1-load_factor': 0.9813962735017762, 'average_daily_peak': 0.96920127, 'peak_demand': 0.93092984, 'net_electricity_consumption': 1.0012349, 'total': 0.9763071806685254}\n",
            "Cumulated reward: -51021243813.17902\n",
            "Cost score: {'ramping': 0.95465636, '1-load_factor': 0.9930559211944712, 'average_daily_peak': 0.9690171, 'peak_demand': 0.988644, 'net_electricity_consumption': 0.99885136, 'total': 0.980844946979983}\n",
            "Cumulated reward: -51459511095.0608\n",
            "Cost score: {'ramping': 0.99640864, '1-load_factor': 0.9904494022187074, 'average_daily_peak': 0.96952283, 'peak_demand': 1.0112883, 'net_electricity_consumption': 1.0009964, 'total': 0.9937331027757421}\n",
            "Cumulated reward: -50911931394.675186\n",
            "Cost score: {'ramping': 0.94987386, '1-load_factor': 0.9942663815255831, 'average_daily_peak': 0.966722, 'peak_demand': 0.9851749, 'net_electricity_consumption': 0.9983951, 'total': 0.978886447482027}\n"
          ],
          "name": "stdout"
        }
      ]
    },
    {
      "cell_type": "code",
      "metadata": {
        "id": "cn8lVph7Mn9b"
      },
      "source": [
        "eval_df = pd.DataFrame(costs)\n",
        "eval_df['cum_reward'] = pd.Series(cum_rewards)"
      ],
      "execution_count": 28,
      "outputs": []
    },
    {
      "cell_type": "code",
      "metadata": {
        "id": "w4EGVFHxcn5P",
        "colab": {
          "base_uri": "https://localhost:8080/",
          "height": 399
        },
        "outputId": "cf2c946b-7e66-47df-f8b9-6d892d07ee7d"
      },
      "source": [
        "fig, axs = plt.subplots(1, 2, figsize = (20, 6))\n",
        "axs[0].plot(eval_df[\"cum_reward\"], label=\"a\")\n",
        "axs[0].set_ylabel(\"Cumlated reward\")\n",
        "axs[0].set_xlabel(\"epoch (1 epoch = 1 year = 5760 timesteps)\")\n",
        "axs[1].plot(eval_df[\"total\"])\n",
        "axs[1].set_ylabel(\"Total cost\")\n",
        "axs[1].set_xlabel(\"epoch (1 epoch = 1 year = 5760 timesteps)\")\n",
        "pass"
      ],
      "execution_count": 29,
      "outputs": [
        {
          "output_type": "display_data",
          "data": {
            "image/png": "[encoded data removed]",
            "text/plain": [
              "<Figure size 1440x432 with 2 Axes>"
            ]
          },
          "metadata": {
            "tags": [],
            "needs_background": "light"
          }
        }
      ]
    },
    {
      "cell_type": "code",
      "metadata": {
        "id": "r7OXEy2kTucH",
        "colab": {
          "base_uri": "https://localhost:8080/",
          "height": 265
        },
        "outputId": "c4ddf2ca-0015-4af0-9ec1-9103fbf5de3d"
      },
      "source": [
        "ax = pd.DataFrame(action_hists[-1]).iloc[:, :3][0:24*10].plot()"
      ],
      "execution_count": 30,
      "outputs": [
        {
          "output_type": "display_data",
          "data": {
            "image/png": "[encoded data removed]",
            "text/plain": [
              "<Figure size 432x288 with 1 Axes>"
            ]
          },
          "metadata": {
            "tags": [],
            "needs_background": "light"
          }
        }
      ]
    },
    {
      "cell_type": "markdown",
      "metadata": {
        "id": "i3ydGejyVRyw"
      },
      "source": [
        "## Pre-training + PPO vs normal PPO from initial weights"
      ]
    },
    {
      "cell_type": "code",
      "metadata": {
        "id": "Kod0htnbmwNL",
        "colab": {
          "base_uri": "https://localhost:8080/"
        },
        "outputId": "8741bcca-7916-457a-ff46-7d447c684b59"
      },
      "source": [
        "# A2C and PPO parameters\n",
        "use_cuda = th.cuda.is_available()\n",
        "device   = th.device(\"cuda\" if use_cuda else \"cpu\")\n",
        "device"
      ],
      "execution_count": 31,
      "outputs": [
        {
          "output_type": "execute_result",
          "data": {
            "text/plain": [
              "device(type='cuda')"
            ]
          },
          "metadata": {
            "tags": []
          },
          "execution_count": 31
        }
      ]
    },
    {
      "cell_type": "code",
      "metadata": {
        "id": "S7WUL89twK2_"
      },
      "source": [
        "args = {'batch_size': 16,\n",
        " 'clip_range': 0.3,\n",
        " 'ent_coef': 0.01,\n",
        " 'gae_lambda': 0.98,\n",
        " 'gamma': 0.9,\n",
        " 'learning_rate': 0.1,\n",
        " 'max_grad_norm': 0.8,\n",
        " 'n_epochs': 5,\n",
        " 'n_steps': 64,\n",
        " 'policy_kwargs': {'activation_fn': th.nn.modules.activation.Tanh,\n",
        "  'net_arch': [{'pi': [256, 256], 'vf': [256, 256]}]},\n",
        " 'vf_coef': 0.5441028863071543}"
      ],
      "execution_count": 32,
      "outputs": []
    },
    {
      "cell_type": "code",
      "metadata": {
        "id": "8S05d-7dj5ma"
      },
      "source": [
        "ppo_nonstudent = PPO(\"MlpPolicy\", \n",
        "                  env, \n",
        "                  **args\n",
        "                  )"
      ],
      "execution_count": 33,
      "outputs": []
    },
    {
      "cell_type": "code",
      "metadata": {
        "id": "4wDaR9AnkKpg",
        "colab": {
          "base_uri": "https://localhost:8080/"
        },
        "outputId": "4c960dca-a95b-48f2-e478-cee325a58ef5"
      },
      "source": [
        "costs_ns = []\n",
        "cum_rewards_ns = []\n",
        "action_hists_ns = []\n",
        "\n",
        "for epoch in range(12):\n",
        "    # Learn in one epcoch:year \n",
        "    ppo_nonstudent.learn(total_timesteps=8760)\n",
        "    # evaluate the cumulated reward and cost diterministically\n",
        "    # because, in the training process, the action is sampled from the distribution of policy.\n",
        "    # it might cause to underestimate the policy.\n",
        "    print(\"--- eval\")\n",
        "    cost, cum_reward, action_hist = eval_policy(env, ppo_nonstudent)\n",
        "    costs_ns.append(cost)\n",
        "    cum_rewards_ns.append(cum_reward)\n",
        "    action_hists_ns.append(action_hist)"
      ],
      "execution_count": 34,
      "outputs": [
        {
          "output_type": "stream",
          "text": [
            "Cumulated reward: -73335768343.07843\n",
            "Cost score: {'ramping': 1.5016134, '1-load_factor': 1.150425749645375, 'average_daily_peak': 1.1499118, 'peak_demand': 1.2609998, 'net_electricity_consumption': 1.043043, 'total': 1.221198741123228}\n",
            "--- eval\n",
            "Cumulated reward: -69411321077.35614\n",
            "Cost score: {'ramping': 0.874131, '1-load_factor': 1.076917035443149, 'average_daily_peak': 1.0356185, 'peak_demand': 1.2449315, 'net_electricity_consumption': 1.0155303, 'total': 1.0494256820405645}\n",
            "Cumulated reward: -73001711018.1529\n",
            "Cost score: {'ramping': 1.4998686, '1-load_factor': 1.1408893725237164, 'average_daily_peak': 1.1547947, 'peak_demand': 1.2574515, 'net_electricity_consumption': 1.0427985, 'total': 1.2191605500571114}\n",
            "--- eval\n",
            "Cumulated reward: -68832505134.83212\n",
            "Cost score: {'ramping': 0.85657775, '1-load_factor': 1.0612333983151432, 'average_daily_peak': 1.0262792, 'peak_demand': 1.2345685, 'net_electricity_consumption': 1.0222139, 'total': 1.0401745551818276}\n",
            "Cumulated reward: -73497441603.41081\n",
            "Cost score: {'ramping': 1.5234891, '1-load_factor': 1.1305832000129175, 'average_daily_peak': 1.1478418, 'peak_demand': 1.203579, 'net_electricity_consumption': 1.0430461, 'total': 1.2097078389237872}\n",
            "--- eval\n",
            "Cumulated reward: -68450349995.1055\n",
            "Cost score: {'ramping': 0.87277144, '1-load_factor': 1.0738972906091697, 'average_daily_peak': 1.0323462, 'peak_demand': 1.2310679, 'net_electricity_consumption': 1.0138271, 'total': 1.0447819925113297}\n",
            "Cumulated reward: -73586951268.40117\n",
            "Cost score: {'ramping': 1.5668237, '1-load_factor': 1.1498630613752032, 'average_daily_peak': 1.1570201, 'peak_demand': 1.2892802, 'net_electricity_consumption': 1.042189, 'total': 1.2410352105034952}\n",
            "--- eval\n",
            "Cumulated reward: -67203784812.68745\n",
            "Cost score: {'ramping': 0.8683763, '1-load_factor': 1.0668550296722679, 'average_daily_peak': 1.0216867, 'peak_demand': 1.2191243, 'net_electricity_consumption': 1.0115843, 'total': 1.0375253233134514}\n",
            "Cumulated reward: -73809226247.75308\n",
            "Cost score: {'ramping': 1.5396897, '1-load_factor': 1.1486911801833968, 'average_daily_peak': 1.1666265, 'peak_demand': 1.2610422, 'net_electricity_consumption': 1.0425757, 'total': 1.2317250495819063}\n",
            "--- eval\n",
            "Cumulated reward: -65779322495.63632\n",
            "Cost score: {'ramping': 0.86599725, '1-load_factor': 1.0727157242198146, 'average_daily_peak': 1.0204326, 'peak_demand': 1.2257867, 'net_electricity_consumption': 1.004338, 'total': 1.037854056499389}\n",
            "Cumulated reward: -73640505449.5891\n",
            "Cost score: {'ramping': 1.5679095, '1-load_factor': 1.1172976769159981, 'average_daily_peak': 1.1649873, 'peak_demand': 1.1706735, 'net_electricity_consumption': 1.0421491, 'total': 1.212603407644247}\n",
            "--- eval\n",
            "Cumulated reward: -66858419877.663414\n",
            "Cost score: {'ramping': 0.8663692, '1-load_factor': 1.0738129319381031, 'average_daily_peak': 1.0233446, 'peak_demand': 1.2329624, 'net_electricity_consumption': 1.0055062, 'total': 1.040399056705461}\n",
            "Cumulated reward: -73461541460.53415\n",
            "Cost score: {'ramping': 1.5293803, '1-load_factor': 1.1361269987762936, 'average_daily_peak': 1.1571645, 'peak_demand': 1.2679609, 'net_electricity_consumption': 1.042171, 'total': 1.2265607364404394}\n",
            "--- eval\n",
            "Cumulated reward: -67170921848.25857\n",
            "Cost score: {'ramping': 0.8652154, '1-load_factor': 1.074107469095029, 'average_daily_peak': 1.0223184, 'peak_demand': 1.232473, 'net_electricity_consumption': 1.0058233, 'total': 1.0399875046756342}\n",
            "Cumulated reward: -72761167133.89539\n",
            "Cost score: {'ramping': 1.5358698, '1-load_factor': 1.1250293650386334, 'average_daily_peak': 1.1556778, 'peak_demand': 1.2515606, 'net_electricity_consumption': 1.0409236, 'total': 1.2218122322988034}\n",
            "--- eval\n",
            "Cumulated reward: -66578878133.488846\n",
            "Cost score: {'ramping': 0.8601158, '1-load_factor': 1.0629250933427656, 'average_daily_peak': 1.0181162, 'peak_demand': 1.2265168, 'net_electricity_consumption': 1.0092114, 'total': 1.0353770838121383}\n",
            "Cumulated reward: -72761573509.93587\n",
            "Cost score: {'ramping': 1.5462749, '1-load_factor': 1.135776239440179, 'average_daily_peak': 1.1542405, 'peak_demand': 1.2130835, 'net_electricity_consumption': 1.0407196, 'total': 1.2180189525694323}\n",
            "--- eval\n",
            "Cumulated reward: -66505940186.69808\n",
            "Cost score: {'ramping': 0.8556251, '1-load_factor': 1.0709430097666326, 'average_daily_peak': 1.0188297, 'peak_demand': 1.229042, 'net_electricity_consumption': 1.0061274, 'total': 1.0361134433572876}\n",
            "Cumulated reward: -72842638331.05763\n",
            "Cost score: {'ramping': 1.5771205, '1-load_factor': 1.1567308455797276, 'average_daily_peak': 1.1531168, 'peak_demand': 1.3626074, 'net_electricity_consumption': 1.0407225, 'total': 1.2580596119183747}\n",
            "--- eval\n",
            "Cumulated reward: -66325806069.832535\n",
            "Cost score: {'ramping': 0.8552718, '1-load_factor': 1.072009827117792, 'average_daily_peak': 1.0184042, 'peak_demand': 1.2245903, 'net_electricity_consumption': 1.0052288, 'total': 1.035100989623998}\n",
            "Cumulated reward: -72934318774.99309\n",
            "Cost score: {'ramping': 1.5586014, '1-load_factor': 1.1428898115121076, 'average_daily_peak': 1.1635264, 'peak_demand': 1.27624, 'net_electricity_consumption': 1.0404264, 'total': 1.2363367942802657}\n",
            "--- eval\n",
            "Cumulated reward: -66728101311.02092\n",
            "Cost score: {'ramping': 0.8588113, '1-load_factor': 1.0715726353606352, 'average_daily_peak': 1.0198045, 'peak_demand': 1.2300487, 'net_electricity_consumption': 1.0056578, 'total': 1.0371789760963275}\n",
            "Cumulated reward: -72599924427.88179\n",
            "Cost score: {'ramping': 1.6045897, '1-load_factor': 1.1461859054687031, 'average_daily_peak': 1.1589707, 'peak_demand': 1.2236303, 'net_electricity_consumption': 1.0398524, 'total': 1.2346458019280913}\n",
            "--- eval\n",
            "Cumulated reward: -67096070979.395706\n",
            "Cost score: {'ramping': 0.8722419, '1-load_factor': 1.075625994453176, 'average_daily_peak': 1.0268257, 'peak_demand': 1.225175, 'net_electricity_consumption': 1.0046669, 'total': 1.0409071045417277}\n"
          ],
          "name": "stdout"
        }
      ]
    },
    {
      "cell_type": "code",
      "metadata": {
        "id": "XUvssom-kTJ7"
      },
      "source": [
        "eval_df_ns = pd.DataFrame(costs_ns)\n",
        "eval_df_ns['cum_reward'] = pd.Series(cum_rewards_ns)"
      ],
      "execution_count": 35,
      "outputs": []
    },
    {
      "cell_type": "code",
      "metadata": {
        "id": "HFJ4gid-mUyv",
        "colab": {
          "base_uri": "https://localhost:8080/",
          "height": 421
        },
        "outputId": "bab4a7fc-f058-4618-d69e-b017f9c114a9"
      },
      "source": [
        "eval_df_ns"
      ],
      "execution_count": 36,
      "outputs": [
        {
          "output_type": "execute_result",
          "data": {
            "text/html": [
              "<div>\n",
              "<style scoped>\n",
              "    .dataframe tbody tr th:only-of-type {\n",
              "        vertical-align: middle;\n",
              "    }\n",
              "\n",
              "    .dataframe tbody tr th {\n",
              "        vertical-align: top;\n",
              "    }\n",
              "\n",
              "    .dataframe thead th {\n",
              "        text-align: right;\n",
              "    }\n",
              "</style>\n",
              "<table border=\"1\" class=\"dataframe\">\n",
              "  <thead>\n",
              "    <tr style=\"text-align: right;\">\n",
              "      <th></th>\n",
              "      <th>ramping</th>\n",
              "      <th>1-load_factor</th>\n",
              "      <th>average_daily_peak</th>\n",
              "      <th>peak_demand</th>\n",
              "      <th>net_electricity_consumption</th>\n",
              "      <th>total</th>\n",
              "      <th>cum_reward</th>\n",
              "    </tr>\n",
              "  </thead>\n",
              "  <tbody>\n",
              "    <tr>\n",
              "      <th>0</th>\n",
              "      <td>0.874131</td>\n",
              "      <td>1.076917</td>\n",
              "      <td>1.035619</td>\n",
              "      <td>1.244931</td>\n",
              "      <td>1.015530</td>\n",
              "      <td>1.049426</td>\n",
              "      <td>-6.941132e+10</td>\n",
              "    </tr>\n",
              "    <tr>\n",
              "      <th>1</th>\n",
              "      <td>0.856578</td>\n",
              "      <td>1.061233</td>\n",
              "      <td>1.026279</td>\n",
              "      <td>1.234568</td>\n",
              "      <td>1.022214</td>\n",
              "      <td>1.040175</td>\n",
              "      <td>-6.883251e+10</td>\n",
              "    </tr>\n",
              "    <tr>\n",
              "      <th>2</th>\n",
              "      <td>0.872771</td>\n",
              "      <td>1.073897</td>\n",
              "      <td>1.032346</td>\n",
              "      <td>1.231068</td>\n",
              "      <td>1.013827</td>\n",
              "      <td>1.044782</td>\n",
              "      <td>-6.845035e+10</td>\n",
              "    </tr>\n",
              "    <tr>\n",
              "      <th>3</th>\n",
              "      <td>0.868376</td>\n",
              "      <td>1.066855</td>\n",
              "      <td>1.021687</td>\n",
              "      <td>1.219124</td>\n",
              "      <td>1.011584</td>\n",
              "      <td>1.037525</td>\n",
              "      <td>-6.720378e+10</td>\n",
              "    </tr>\n",
              "    <tr>\n",
              "      <th>4</th>\n",
              "      <td>0.865997</td>\n",
              "      <td>1.072716</td>\n",
              "      <td>1.020433</td>\n",
              "      <td>1.225787</td>\n",
              "      <td>1.004338</td>\n",
              "      <td>1.037854</td>\n",
              "      <td>-6.577932e+10</td>\n",
              "    </tr>\n",
              "    <tr>\n",
              "      <th>5</th>\n",
              "      <td>0.866369</td>\n",
              "      <td>1.073813</td>\n",
              "      <td>1.023345</td>\n",
              "      <td>1.232962</td>\n",
              "      <td>1.005506</td>\n",
              "      <td>1.040399</td>\n",
              "      <td>-6.685842e+10</td>\n",
              "    </tr>\n",
              "    <tr>\n",
              "      <th>6</th>\n",
              "      <td>0.865215</td>\n",
              "      <td>1.074107</td>\n",
              "      <td>1.022318</td>\n",
              "      <td>1.232473</td>\n",
              "      <td>1.005823</td>\n",
              "      <td>1.039988</td>\n",
              "      <td>-6.717092e+10</td>\n",
              "    </tr>\n",
              "    <tr>\n",
              "      <th>7</th>\n",
              "      <td>0.860116</td>\n",
              "      <td>1.062925</td>\n",
              "      <td>1.018116</td>\n",
              "      <td>1.226517</td>\n",
              "      <td>1.009211</td>\n",
              "      <td>1.035377</td>\n",
              "      <td>-6.657888e+10</td>\n",
              "    </tr>\n",
              "    <tr>\n",
              "      <th>8</th>\n",
              "      <td>0.855625</td>\n",
              "      <td>1.070943</td>\n",
              "      <td>1.018830</td>\n",
              "      <td>1.229042</td>\n",
              "      <td>1.006127</td>\n",
              "      <td>1.036113</td>\n",
              "      <td>-6.650594e+10</td>\n",
              "    </tr>\n",
              "    <tr>\n",
              "      <th>9</th>\n",
              "      <td>0.855272</td>\n",
              "      <td>1.072010</td>\n",
              "      <td>1.018404</td>\n",
              "      <td>1.224590</td>\n",
              "      <td>1.005229</td>\n",
              "      <td>1.035101</td>\n",
              "      <td>-6.632581e+10</td>\n",
              "    </tr>\n",
              "    <tr>\n",
              "      <th>10</th>\n",
              "      <td>0.858811</td>\n",
              "      <td>1.071573</td>\n",
              "      <td>1.019804</td>\n",
              "      <td>1.230049</td>\n",
              "      <td>1.005658</td>\n",
              "      <td>1.037179</td>\n",
              "      <td>-6.672810e+10</td>\n",
              "    </tr>\n",
              "    <tr>\n",
              "      <th>11</th>\n",
              "      <td>0.872242</td>\n",
              "      <td>1.075626</td>\n",
              "      <td>1.026826</td>\n",
              "      <td>1.225175</td>\n",
              "      <td>1.004667</td>\n",
              "      <td>1.040907</td>\n",
              "      <td>-6.709607e+10</td>\n",
              "    </tr>\n",
              "  </tbody>\n",
              "</table>\n",
              "</div>"
            ],
            "text/plain": [
              "     ramping  1-load_factor  ...     total    cum_reward\n",
              "0   0.874131       1.076917  ...  1.049426 -6.941132e+10\n",
              "1   0.856578       1.061233  ...  1.040175 -6.883251e+10\n",
              "2   0.872771       1.073897  ...  1.044782 -6.845035e+10\n",
              "3   0.868376       1.066855  ...  1.037525 -6.720378e+10\n",
              "4   0.865997       1.072716  ...  1.037854 -6.577932e+10\n",
              "5   0.866369       1.073813  ...  1.040399 -6.685842e+10\n",
              "6   0.865215       1.074107  ...  1.039988 -6.717092e+10\n",
              "7   0.860116       1.062925  ...  1.035377 -6.657888e+10\n",
              "8   0.855625       1.070943  ...  1.036113 -6.650594e+10\n",
              "9   0.855272       1.072010  ...  1.035101 -6.632581e+10\n",
              "10  0.858811       1.071573  ...  1.037179 -6.672810e+10\n",
              "11  0.872242       1.075626  ...  1.040907 -6.709607e+10\n",
              "\n",
              "[12 rows x 7 columns]"
            ]
          },
          "metadata": {
            "tags": []
          },
          "execution_count": 36
        }
      ]
    },
    {
      "cell_type": "code",
      "metadata": {
        "colab": {
          "base_uri": "https://localhost:8080/",
          "height": 399
        },
        "id": "3ApCumgXz92R",
        "outputId": "7127cd6c-881d-41cf-8aaf-fe55996c1da7"
      },
      "source": [
        "fig, axs = plt.subplots(1, 2, figsize = (20, 6))\n",
        "axs[0].plot(eval_df_ns[\"cum_reward\"], label=\"a\")\n",
        "axs[0].set_xlabel(\"epoch (1 epoch = 1 year = 5760 timesteps)\")\n",
        "axs[1].plot(eval_df_ns[\"total\"])\n",
        "axs[1].set_ylabel(\"Total cost\")\n",
        "axs[1].set_xlabel(\"epoch (1 epoch = 1 year = 5760 timesteps)\")\n",
        "pass"
      ],
      "execution_count": 37,
      "outputs": [
        {
          "output_type": "display_data",
          "data": {
            "image/png": "[encoded data removed]",
            "text/plain": [
              "<Figure size 1440x432 with 2 Axes>"
            ]
          },
          "metadata": {
            "tags": [],
            "needs_background": "light"
          }
        }
      ]
    },
    {
      "cell_type": "code",
      "metadata": {
        "colab": {
          "base_uri": "https://localhost:8080/",
          "height": 265
        },
        "id": "nJOMgQD2eGIt",
        "outputId": "33fbb707-c85d-44e2-a7eb-09b218acbea9"
      },
      "source": [
        "ax = pd.DataFrame(action_hists_ns[-1]).iloc[:, :3][0:24*10].plot()"
      ],
      "execution_count": 44,
      "outputs": [
        {
          "output_type": "display_data",
          "data": {
            "image/png": "[encoded data removed]",
            "text/plain": [
              "<Figure size 432x288 with 1 Axes>"
            ]
          },
          "metadata": {
            "tags": [],
            "needs_background": "light"
          }
        }
      ]
    },
    {
      "cell_type": "code",
      "metadata": {
        "id": "zF0csbPfmWT0",
        "colab": {
          "base_uri": "https://localhost:8080/",
          "height": 399
        },
        "outputId": "80cd325a-e651-41f4-9a55-9c4c9130e9b3"
      },
      "source": [
        "fig, axs = plt.subplots(1, 2, figsize = (20, 6))\n",
        "axs[0].plot(eval_df[\"cum_reward\"], label=\"BC+PPO\")\n",
        "axs[0].plot(eval_df_ns[\"cum_reward\"], label=\"PPO\")\n",
        "axs[0].set_ylabel(\"Cumlated reward\")\n",
        "axs[0].set_xlabel(\"epoch (1 epoch = 1 year = 5760 timesteps)\")\n",
        "axs[0].legend()\n",
        "axs[1].plot(eval_df[\"total\"],label=\"BC+PPO\")\n",
        "axs[1].plot(eval_df_ns[\"total\"],label=\"PPO\")\n",
        "axs[1].set_ylabel(\"Total cost\")\n",
        "axs[1].set_xlabel(\"epoch (1 epoch = 1 year = 5760 timesteps)\")\n",
        "axs[1].legend()\n",
        "pass"
      ],
      "execution_count": 40,
      "outputs": [
        {
          "output_type": "display_data",
          "data": {
            "image/png": "[encoded data removed]",
            "text/plain": [
              "<Figure size 1440x432 with 2 Axes>"
            ]
          },
          "metadata": {
            "tags": [],
            "needs_background": "light"
          }
        }
      ]
    },
    {
      "cell_type": "code",
      "metadata": {
        "id": "saMzOsM2dtKN"
      },
      "source": [
        ""
      ],
      "execution_count": null,
      "outputs": []
    }
  ]
}
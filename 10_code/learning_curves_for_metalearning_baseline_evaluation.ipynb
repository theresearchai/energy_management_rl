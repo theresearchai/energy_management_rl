{
  "nbformat": 4,
  "nbformat_minor": 0,
  "metadata": {
    "accelerator": "GPU",
    "colab": {
      "name": "learning_curves_for_metalearning_baseline_evaluation.ipynb",
      "provenance": [],
      "collapsed_sections": [],
      "toc_visible": true
    },
    "kernelspec": {
      "display_name": "Python 3",
      "language": "python",
      "name": "python3"
    },
    "language_info": {
      "codemirror_mode": {
        "name": "ipython",
        "version": 3
      },
      "file_extension": ".py",
      "mimetype": "text/x-python",
      "name": "python",
      "nbconvert_exporter": "python",
      "pygments_lexer": "ipython3",
      "version": "3.8.5"
    }
  },
  "cells": [
    {
      "cell_type": "markdown",
      "metadata": {
        "id": "K6yuR3yUpGob"
      },
      "source": [
        "# Meta learing baseline evaluation\n",
        "\n",
        "To improve RI model performance using meta-learning, first, we evaluate the baseline performance that shows how good model without meta-learning trained on a certain region environment controls on other environments. For example, we have four simulators that is coresponding to one prepared region. For example, we have four simulators that are corresponding to prepared regions. Once we trained our RI model in region 1, then we evaluate how well the trained model performers in other regions, 2, 3, and 4."
      ]
    },
    {
      "cell_type": "markdown",
      "metadata": {
        "id": "jMMX9XgRqMDC"
      },
      "source": [
        "## Libraries"
      ]
    },
    {
      "cell_type": "code",
      "metadata": {
        "id": "ja1QBsuQpTls",
        "colab": {
          "base_uri": "https://localhost:8080/"
        },
        "outputId": "74d998a0-93e5-4cb6-9435-1c992a5e0077"
      },
      "source": [
        "# get CityLearn from github\n",
        "!rm -rf ./CityLearn/\n",
        "!git clone https://github.com/intelligent-environments-lab/CityLearn.git"
      ],
      "execution_count": null,
      "outputs": [
        {
          "output_type": "stream",
          "text": [
            "Cloning into 'CityLearn'...\n",
            "remote: Enumerating objects: 216, done.\u001b[K\n",
            "remote: Counting objects: 100% (216/216), done.\u001b[K\n",
            "remote: Compressing objects: 100% (172/172), done.\u001b[K\n",
            "remote: Total 953 (delta 68), reused 174 (delta 37), pack-reused 737\u001b[K\n",
            "Receiving objects: 100% (953/953), 36.71 MiB | 22.44 MiB/s, done.\n",
            "Resolving deltas: 100% (497/497), done.\n"
          ],
          "name": "stdout"
        }
      ]
    },
    {
      "cell_type": "code",
      "metadata": {
        "id": "OyezbHxNqKEK",
        "colab": {
          "base_uri": "https://localhost:8080/"
        },
        "outputId": "0eb8a0e9-9304-4b7c-e53f-452438aca777"
      },
      "source": [
        "!pip install stable_baselines3"
      ],
      "execution_count": null,
      "outputs": [
        {
          "output_type": "stream",
          "text": [
            "Requirement already satisfied: stable_baselines3 in /usr/local/lib/python3.7/dist-packages (0.11.1)\n",
            "Requirement already satisfied: cloudpickle in /usr/local/lib/python3.7/dist-packages (from stable_baselines3) (1.3.0)\n",
            "Requirement already satisfied: gym>=0.17 in /usr/local/lib/python3.7/dist-packages (from stable_baselines3) (0.17.3)\n",
            "Requirement already satisfied: pandas in /usr/local/lib/python3.7/dist-packages (from stable_baselines3) (1.1.5)\n",
            "Requirement already satisfied: matplotlib in /usr/local/lib/python3.7/dist-packages (from stable_baselines3) (3.2.2)\n",
            "Requirement already satisfied: torch>=1.4.0 in /usr/local/lib/python3.7/dist-packages (from stable_baselines3) (1.8.0+cu101)\n",
            "Requirement already satisfied: numpy in /usr/local/lib/python3.7/dist-packages (from stable_baselines3) (1.19.5)\n",
            "Requirement already satisfied: scipy in /usr/local/lib/python3.7/dist-packages (from gym>=0.17->stable_baselines3) (1.4.1)\n",
            "Requirement already satisfied: pyglet<=1.5.0,>=1.4.0 in /usr/local/lib/python3.7/dist-packages (from gym>=0.17->stable_baselines3) (1.5.0)\n",
            "Requirement already satisfied: pytz>=2017.2 in /usr/local/lib/python3.7/dist-packages (from pandas->stable_baselines3) (2018.9)\n",
            "Requirement already satisfied: python-dateutil>=2.7.3 in /usr/local/lib/python3.7/dist-packages (from pandas->stable_baselines3) (2.8.1)\n",
            "Requirement already satisfied: kiwisolver>=1.0.1 in /usr/local/lib/python3.7/dist-packages (from matplotlib->stable_baselines3) (1.3.1)\n",
            "Requirement already satisfied: pyparsing!=2.0.4,!=2.1.2,!=2.1.6,>=2.0.1 in /usr/local/lib/python3.7/dist-packages (from matplotlib->stable_baselines3) (2.4.7)\n",
            "Requirement already satisfied: cycler>=0.10 in /usr/local/lib/python3.7/dist-packages (from matplotlib->stable_baselines3) (0.10.0)\n",
            "Requirement already satisfied: typing-extensions in /usr/local/lib/python3.7/dist-packages (from torch>=1.4.0->stable_baselines3) (3.7.4.3)\n",
            "Requirement already satisfied: future in /usr/local/lib/python3.7/dist-packages (from pyglet<=1.5.0,>=1.4.0->gym>=0.17->stable_baselines3) (0.16.0)\n",
            "Requirement already satisfied: six>=1.5 in /usr/local/lib/python3.7/dist-packages (from python-dateutil>=2.7.3->pandas->stable_baselines3) (1.15.0)\n"
          ],
          "name": "stdout"
        }
      ]
    },
    {
      "cell_type": "code",
      "metadata": {
        "id": "gaGfZJ4FqSe_",
        "colab": {
          "base_uri": "https://localhost:8080/"
        },
        "outputId": "b809dae9-db9c-4f33-e178-18b29dd07d24"
      },
      "source": [
        "from google.colab import drive\n",
        "drive.mount('/gdrive')\n",
        "!ls /gdrive"
      ],
      "execution_count": null,
      "outputs": [
        {
          "output_type": "stream",
          "text": [
            "Drive already mounted at /gdrive; to attempt to forcibly remount, call drive.mount(\"/gdrive\", force_remount=True).\n",
            "MyDrive\n"
          ],
          "name": "stdout"
        }
      ]
    },
    {
      "cell_type": "code",
      "metadata": {
        "id": "Gg8X_B_QqWUp"
      },
      "source": [
        "# Loading libraries\n",
        "import sys\n",
        "sys.path.append(\"./CityLearn\")\n",
        "\n",
        "from citylearn import CityLearn\n",
        "from reward_function import reward_function_ma\n",
        "import matplotlib.pyplot as plt\n",
        "from pathlib import Path\n",
        "import numpy as np\n",
        "from agent import RL_Agents_Coord\n",
        "\n",
        "import os\n",
        "import gym\n",
        "import numpy as np\n",
        "from stable_baselines3 import SAC\n",
        "from stable_baselines3.sac.policies import MlpPolicy as MlpPolicy_SAC\n",
        "from stable_baselines3.common.callbacks import BaseCallback\n",
        "import matplotlib.pyplot as plt\n",
        "from pathlib import Path\n",
        "import time\n",
        "\n",
        "import pandas as pd\n",
        "import seaborn as sns\n",
        "\n",
        "import pickle\n",
        "import copy"
      ],
      "execution_count": null,
      "outputs": []
    },
    {
      "cell_type": "code",
      "metadata": {
        "id": "z6_X9UvQwD39"
      },
      "source": [
        "import warnings\n",
        "warnings.filterwarnings(\"ignore\")"
      ],
      "execution_count": null,
      "outputs": []
    },
    {
      "cell_type": "markdown",
      "metadata": {
        "id": "ZzFnTtbmqgBQ"
      },
      "source": [
        "## Simulation environment\n",
        "\n",
        "Now we focus on the climete region, so I create a simple function that takes one parameter that means the climate region and retrurns the coressponding environment simulator. Also, I use MARISA included in CityLearn as the future return scoring."
      ]
    },
    {
      "cell_type": "code",
      "metadata": {
        "id": "9Y0bWVQcql_r"
      },
      "source": [
        "def get_env(climate_zone):\n",
        "  # Load environment\n",
        "  data_path = Path(\"./CityLearn/data/Climate_Zone_\"+str(climate_zone))\n",
        "  building_attributes = data_path / 'building_attributes.json'\n",
        "  weather_file = data_path / 'weather_data.csv'\n",
        "  solar_profile = data_path / 'solar_generation_1kW.csv'\n",
        "  building_state_actions = './CityLearn/buildings_state_action_space.json'\n",
        "  building_ids = [\"Building_1\",\"Building_2\",\"Building_3\",\"Building_4\",\"Building_5\",\"Building_6\",\"Building_7\",\"Building_8\",\"Building_9\"]\n",
        "  objective_function = ['ramping','1-load_factor','average_daily_peak','peak_demand','net_electricity_consumption']\n",
        "\n",
        "  # Contain the lower and upper bounds of the states and actions, to be provided to the agent to normalize the variables between 0 and 1.\n",
        "  # Can be obtained using observations_spaces[i].low or .high\n",
        "  env = CityLearn(data_path, \n",
        "                  building_attributes, \n",
        "                  weather_file, \n",
        "                  solar_profile, \n",
        "                  building_ids, \n",
        "                  buildings_states_actions = building_state_actions, \n",
        "                  cost_function = objective_function, \n",
        "                  verbose = 0, \n",
        "                  simulation_period=(0,8760-1), \n",
        "                  central_agent=False)\n",
        "  # Provides information on Building type, Climate Zone, Annual DHW demand, Annual Cooling Demand, Annual Electricity Demand, Solar Capacity, and correllations among buildings\n",
        "  building_info = env.get_building_information()  \n",
        "  observations_spaces, actions_spaces = env.get_state_action_spaces()\n",
        "\n",
        "  return env, building_ids, building_state_actions, building_info, observations_spaces, actions_spaces"
      ],
      "execution_count": null,
      "outputs": []
    },
    {
      "cell_type": "code",
      "metadata": {
        "id": "N6_N-KGztZYM"
      },
      "source": [
        "env, building_ids, building_state_actions, building_info, observations_spaces, actions_spaces = get_env(4)"
      ],
      "execution_count": null,
      "outputs": []
    },
    {
      "cell_type": "code",
      "metadata": {
        "id": "lLCQjZWytMgg",
        "colab": {
          "base_uri": "https://localhost:8080/"
        },
        "outputId": "d1a4a163-d0d3-4658-f4f4-8a7c426f472f"
      },
      "source": [
        "observations_spaces"
      ],
      "execution_count": null,
      "outputs": [
        {
          "output_type": "execute_result",
          "data": {
            "text/plain": [
              "[Box(-19.100000381469727, 1044.0400390625, (26,), float32),\n",
              " Box(-19.100000381469727, 1044.0400390625, (26,), float32),\n",
              " Box(-19.100000381469727, 1044.0400390625, (25,), float32),\n",
              " Box(-19.100000381469727, 1044.0400390625, (26,), float32),\n",
              " Box(-19.100000381469727, 1044.0400390625, (26,), float32),\n",
              " Box(-19.100000381469727, 1044.0400390625, (26,), float32),\n",
              " Box(-19.100000381469727, 1044.0400390625, (26,), float32),\n",
              " Box(-19.100000381469727, 1044.0400390625, (26,), float32),\n",
              " Box(-19.100000381469727, 1044.0400390625, (26,), float32)]"
            ]
          },
          "metadata": {
            "tags": []
          },
          "execution_count": 32
        }
      ]
    },
    {
      "cell_type": "code",
      "metadata": {
        "id": "5ooVET5ytpIA",
        "colab": {
          "base_uri": "https://localhost:8080/"
        },
        "outputId": "a4a5ae8c-6288-4ba8-f721-dac14d5a48fb"
      },
      "source": [
        "actions_spaces"
      ],
      "execution_count": null,
      "outputs": [
        {
          "output_type": "execute_result",
          "data": {
            "text/plain": [
              "[Box(-0.25, 0.25, (2,), float32),\n",
              " Box(-0.3333333432674408, 0.3333333432674408, (2,), float32),\n",
              " Box(-0.3333333432674408, 0.3333333432674408, (1,), float32),\n",
              " Box(-0.5, 0.5, (1,), float32),\n",
              " Box(-0.5, 0.5, (2,), float32),\n",
              " Box(-0.3333333432674408, 0.3333333432674408, (2,), float32),\n",
              " Box(-0.3333333432674408, 0.3333333432674408, (2,), float32),\n",
              " Box(-0.5, 0.5, (2,), float32),\n",
              " Box(-0.5, 0.5, (2,), float32)]"
            ]
          },
          "metadata": {
            "tags": []
          },
          "execution_count": 33
        }
      ]
    },
    {
      "cell_type": "markdown",
      "metadata": {
        "id": "oVNelWVJsMZx"
      },
      "source": [
        "## Train an agent on a certain region"
      ]
    },
    {
      "cell_type": "code",
      "metadata": {
        "id": "VXBsy1jzuF_b"
      },
      "source": [
        "# Hyperparameters\n",
        "bs = 256\n",
        "tau = 0.005\n",
        "gamma = 0.99\n",
        "lr = 0.0003\n",
        "hid = [256,256]\n",
        "\n",
        "n_episodes = 4 # --- Just for coding. Change to 12 to run for real\n",
        "warm_up = 2 # --- Change to 7 to run for real"
      ],
      "execution_count": null,
      "outputs": []
    },
    {
      "cell_type": "code",
      "metadata": {
        "id": "KVRN1TAVuwPP"
      },
      "source": [
        "# Instantiating the control agent(s)\n",
        "agents = RL_Agents_Coord(building_ids, \n",
        "                         building_state_actions, \n",
        "                         building_info, \n",
        "                         observations_spaces, \n",
        "                         actions_spaces, \n",
        "                         discount = gamma, \n",
        "                         batch_size = bs, \n",
        "                         replay_buffer_capacity = 1e5, \n",
        "                         regression_buffer_capacity = 12*8760, \n",
        "                         tau=tau, \n",
        "                         lr=lr, \n",
        "                         hidden_dim=hid, \n",
        "                         start_training=8760*3, \n",
        "                         exploration_period = 8760*3+1,  \n",
        "                         start_regression=8760, \n",
        "                         information_sharing = True, \n",
        "                         pca_compression = .95, \n",
        "                         action_scaling_coef=0.5, \n",
        "                         reward_scaling = 5., \n",
        "                         update_per_step = 1, \n",
        "                         iterations_as = 2)"
      ],
      "execution_count": null,
      "outputs": []
    },
    {
      "cell_type": "code",
      "metadata": {
        "id": "lX9YiKrYvbB9",
        "colab": {
          "base_uri": "https://localhost:8080/"
        },
        "outputId": "b4163ac6-4def-4bdb-eca2-ef93f6112149"
      },
      "source": [
        "cost_by_epoch = []\n",
        "\n",
        "# The number of episodes can be replaces by a stopping criterion (i.e. convergence of the average reward)\n",
        "start = time.time()\n",
        "\n",
        "for e in range(n_episodes): \n",
        "    is_evaluating = (e > warm_up) # Evaluate deterministic policy after warm_up period (in epochs)\n",
        "    rewards = []\n",
        "    state = env.reset()\n",
        "    done = False\n",
        "\n",
        "    j = 0\n",
        "    action, coordination_vars = agents.select_action(state, deterministic=is_evaluating)    \n",
        "    while not done:\n",
        "\n",
        "      next_state, reward, done, _ = env.step(action)\n",
        "      action_next, coordination_vars_next = agents.select_action(next_state, deterministic=is_evaluating)\n",
        "      agents.add_to_buffer(state, action, reward, next_state, done, coordination_vars, coordination_vars_next)\n",
        "\n",
        "      state = next_state\n",
        "      coordination_vars = coordination_vars_next\n",
        "      action = action_next\n",
        "      \n",
        "    cost = env.cost()\n",
        "    cost_by_epoch.append(cost)\n",
        "    print('Loss -', cost, 'Simulation time (min) -',(time.time()-start)/60.0)"
      ],
      "execution_count": null,
      "outputs": [
        {
          "output_type": "stream",
          "text": [
            "Loss - {'ramping': 1.1905167, '1-load_factor': 1.0959079087630101, 'average_daily_peak': 1.0867164, 'peak_demand': 1.1883829, 'net_electricity_consumption': 1.0372682, 'total': 1.1197584116628803} Simulation time (min) - 0.8012892961502075\n",
            "Loss - {'ramping': 1.1881983, '1-load_factor': 1.1039932046016636, 'average_daily_peak': 1.0988388, 'peak_demand': 1.3005668, 'net_electricity_consumption': 1.0376801, 'total': 1.1458554560677325} Simulation time (min) - 4.883676187197367\n",
            "Loss - {'ramping': 1.191418, '1-load_factor': 1.0788237975470165, 'average_daily_peak': 1.0924903, 'peak_demand': 1.1500947, 'net_electricity_consumption': 1.0372899, 'total': 1.1100233540223428} Simulation time (min) - 9.862490010261535\n",
            "Loss - {'ramping': 0.82156605, '1-load_factor': 1.0554486180450022, 'average_daily_peak': 0.9951084, 'peak_demand': 1.1737045, 'net_electricity_consumption': 0.99808437, 'total': 1.008782392046958} Simulation time (min) - 36.53748629490534\n"
          ],
          "name": "stdout"
        }
      ]
    },
    {
      "cell_type": "code",
      "metadata": {
        "id": "-nX7h6hivcNP"
      },
      "source": [
        "import pickle\n",
        "\n",
        "with open(\"/gdrive/My Drive/cost_by_epoch_cz4.pkl\", \"wb\") as f:\n",
        "  pickle.dump(cost_by_epoch, f)\n",
        "\n",
        "with open(\"/gdrive/My Drive/agents_cz4.pkl\", \"wb\") as f:\n",
        "    pickle.dump(agents, f)"
      ],
      "execution_count": null,
      "outputs": []
    },
    {
      "cell_type": "markdown",
      "metadata": {
        "id": "nx-c_67-_7Wv"
      },
      "source": [
        "## Evaluate the costs in other regions using the trained model"
      ]
    },
    {
      "cell_type": "code",
      "metadata": {
        "id": "nMTkJF5rt0hP"
      },
      "source": [
        "#Number of climate zones\r\n",
        "n_cz = 3"
      ],
      "execution_count": 41,
      "outputs": []
    },
    {
      "cell_type": "code",
      "metadata": {
        "id": "MbWDLktvCO5y",
        "colab": {
          "base_uri": "https://localhost:8080/"
        },
        "outputId": "9fb7a660-d83d-40a2-8148-6fbb61343e77"
      },
      "source": [
        "# load the trained model from pickle file.\n",
        "with open(\"/gdrive/My Drive/agents_cz4.pkl\", \"rb\") as f:\n",
        "    agents_org = pickle.load(f) #Load\n",
        "agents_org"
      ],
      "execution_count": null,
      "outputs": [
        {
          "output_type": "execute_result",
          "data": {
            "text/plain": [
              "<agent.RL_Agents_Coord at 0x7fccd9135cd0>"
            ]
          },
          "metadata": {
            "tags": []
          },
          "execution_count": 38
        }
      ]
    },
    {
      "cell_type": "code",
      "metadata": {
        "colab": {
          "base_uri": "https://localhost:8080/"
        },
        "id": "cGHip_GRH6na",
        "outputId": "b1620fdc-6908-4581-8d3c-a5791df344de"
      },
      "source": [
        "#Create empty dictionary to store learning curves\r\n",
        "learning_curves_by_cz = {str(cz): [] for cz in range(1,n_cz + 1)}\r\n",
        "learning_curves_by_cz"
      ],
      "execution_count": 47,
      "outputs": [
        {
          "output_type": "execute_result",
          "data": {
            "text/plain": [
              "{'1': [], '2': [], '3': []}"
            ]
          },
          "metadata": {
            "tags": []
          },
          "execution_count": 47
        }
      ]
    },
    {
      "cell_type": "code",
      "metadata": {
        "id": "FrYFrYP6-nQg",
        "colab": {
          "base_uri": "https://localhost:8080/"
        },
        "outputId": "13be69e7-602c-4f31-cec9-da274c6014f5"
      },
      "source": [
        "cost_by_cz = []\n",
        "\n",
        "for cz in range(1, n_cz + 1):\n",
        "  start = time.time()\n",
        "  # get an env that is corespoinding to cz.\n",
        "  env, building_ids, building_state_actions, building_info, observations_spaces, actions_spaces = get_env(cz)\n",
        "  print(f\"Climate Zone: {cz}\")\n",
        "\n",
        "  # copy the trained agent from the original.\n",
        "  agents = copy.deepcopy(agents_org)\n",
        "\n",
        "  is_evaluating = True\n",
        "  rewards = []\n",
        "  state = env.reset()\n",
        "  done = False\n",
        "\n",
        "  action, coordination_vars = agents.select_action(state, deterministic=is_evaluating)    \n",
        "  while not done:\n",
        "      next_state, reward, done, _ = env.step(action)\n",
        "      action_next, coordination_vars_next = agents.select_action(next_state, deterministic=is_evaluating)\n",
        "      #agents.add_to_buffer(state, action, reward, next_state, done, coordination_vars, coordination_vars_next)\n",
        "\n",
        "      state = next_state\n",
        "      coordination_vars = coordination_vars_next\n",
        "      action = action_next\n",
        "\n",
        "  cost = env.cost()['total']\n",
        "  learning_curves_by_cz[str(cz)].append(cost)\n",
        "\n",
        "  print('Loss -', cost, 'Simulation time (min) -',(time.time()-start)/60.0)\n",
        "  cost_by_cz.append(cost)"
      ],
      "execution_count": 48,
      "outputs": [
        {
          "output_type": "stream",
          "text": [
            "Climate Zone: 1\n",
            "Loss - 1.118682422941564 Simulation time (min) - 0.34189003308614097\n",
            "Climate Zone: 2\n",
            "Loss - 1.091341571045355 Simulation time (min) - 0.34488989114761354\n",
            "Climate Zone: 3\n",
            "Loss - 1.1350296038454384 Simulation time (min) - 0.34100622733434044\n"
          ],
          "name": "stdout"
        }
      ]
    },
    {
      "cell_type": "code",
      "metadata": {
        "id": "jTGDyCHvFkx4",
        "colab": {
          "base_uri": "https://localhost:8080/"
        },
        "outputId": "2470f6c6-a3c7-48a1-e747-21d97a84dc05"
      },
      "source": [
        "learning_curves_by_cz"
      ],
      "execution_count": 49,
      "outputs": [
        {
          "output_type": "execute_result",
          "data": {
            "text/plain": [
              "{'1': [1.118682422941564], '2': [1.091341571045355], '3': [1.1350296038454384]}"
            ]
          },
          "metadata": {
            "tags": []
          },
          "execution_count": 49
        }
      ]
    },
    {
      "cell_type": "code",
      "metadata": {
        "id": "ls6gUrmY-02m"
      },
      "source": [
        "df = pd.DataFrame(cost_by_cz)\n",
        "df.index = [\"cz1\", \"cz2\", \"cz3\", \"cz4\"]"
      ],
      "execution_count": null,
      "outputs": []
    },
    {
      "cell_type": "code",
      "metadata": {
        "id": "yMINZ9zFsPBG"
      },
      "source": [
        "df"
      ],
      "execution_count": null,
      "outputs": []
    },
    {
      "cell_type": "code",
      "metadata": {
        "id": "daBwYWYgsUMu"
      },
      "source": [
        ""
      ],
      "execution_count": null,
      "outputs": []
    },
    {
      "cell_type": "code",
      "metadata": {
        "id": "dWSvWqFXsUJx"
      },
      "source": [
        ""
      ],
      "execution_count": null,
      "outputs": []
    },
    {
      "cell_type": "code",
      "metadata": {
        "id": "G0MEc5i8sUGS"
      },
      "source": [
        ""
      ],
      "execution_count": null,
      "outputs": []
    },
    {
      "cell_type": "code",
      "metadata": {
        "id": "AS1E54qPsUCF"
      },
      "source": [
        ""
      ],
      "execution_count": null,
      "outputs": []
    },
    {
      "cell_type": "code",
      "metadata": {
        "id": "0QDYa3Uv-2sA"
      },
      "source": [
        "#df.to_csv(\"/gdrive/My Drive/eval_baseline_cz3.csv\")\n",
        "df.to_csv(\"/gdrive/My Drive/eval_baseline_cz4.csv\")"
      ],
      "execution_count": null,
      "outputs": []
    },
    {
      "cell_type": "code",
      "metadata": {
        "id": "5RphVYDrMSZD"
      },
      "source": [
        "df = pd.read_csv(\"/gdrive/My Drive/eval_baseline_cz3.csv\", index_col=0)\n",
        "ax = df.plot.bar(rot=0)\n",
        "ax.legend(loc='center left', bbox_to_anchor=(1, 0.5))\n",
        "ax.set_ylim((0.8, 1.1))\n",
        "plt.title(\"Costs by climate zone(cz) using angent trained on cz 3\")\n",
        "pass"
      ],
      "execution_count": null,
      "outputs": []
    },
    {
      "cell_type": "code",
      "metadata": {
        "id": "Z98NZi0gMeXs"
      },
      "source": [
        "df = pd.read_csv(\"/gdrive/My Drive/eval_baseline_cz4.csv\", index_col=0)\n",
        "ax = df.plot.bar(rot=0)\n",
        "ax.legend(loc='center left', bbox_to_anchor=(1, 0.5))\n",
        "ax.set_ylim((0.8, 1.10))\n",
        "plt.title(\"Costs by climate zone(cz) using angent trained on cz 4\")\n",
        "pass"
      ],
      "execution_count": null,
      "outputs": []
    }
  ]
}
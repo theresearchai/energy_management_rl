{
 "cells": [
  {
   "cell_type": "code",
   "execution_count": 1,
   "metadata": {},
   "outputs": [],
   "source": [
    "import pandas as pd\n",
    "import seaborn as sns"
   ]
  },
  {
   "cell_type": "code",
   "execution_count": 2,
   "metadata": {},
   "outputs": [],
   "source": [
    "df = pd.read_csv(\"00_data/simulation_data_for_EDA\")"
   ]
  },
  {
   "cell_type": "code",
   "execution_count": 5,
   "metadata": {},
   "outputs": [],
   "source": [
    "df_climate_mean = df.groupby('climate_zone').mean()\n",
    "df_climate_mean = df_climate_mean[['Indoor Temperature [C]', 'Average Unmet Cooling Setpoint Difference [C]',\\\n",
    "                                  'Indoor Relative Humidity [%]',\"Equipment Electric Power [kWh]\",\\\n",
    "                                   \"DHW Heating [kWh]\", \"Cooling Load [kWh]\"]]"
   ]
  },
  {
   "cell_type": "code",
   "execution_count": 6,
   "metadata": {},
   "outputs": [
    {
     "data": {
      "text/html": [
       "<div>\n",
       "<style scoped>\n",
       "    .dataframe tbody tr th:only-of-type {\n",
       "        vertical-align: middle;\n",
       "    }\n",
       "\n",
       "    .dataframe tbody tr th {\n",
       "        vertical-align: top;\n",
       "    }\n",
       "\n",
       "    .dataframe thead th {\n",
       "        text-align: right;\n",
       "    }\n",
       "</style>\n",
       "<table border=\"1\" class=\"dataframe\">\n",
       "  <thead>\n",
       "    <tr style=\"text-align: right;\">\n",
       "      <th></th>\n",
       "      <th>Indoor Temperature [C]</th>\n",
       "      <th>Average Unmet Cooling Setpoint Difference [C]</th>\n",
       "      <th>Indoor Relative Humidity [%]</th>\n",
       "      <th>Equipment Electric Power [kWh]</th>\n",
       "      <th>DHW Heating [kWh]</th>\n",
       "      <th>Cooling Load [kWh]</th>\n",
       "    </tr>\n",
       "    <tr>\n",
       "      <th>climate_zone</th>\n",
       "      <th></th>\n",
       "      <th></th>\n",
       "      <th></th>\n",
       "      <th></th>\n",
       "      <th></th>\n",
       "      <th></th>\n",
       "    </tr>\n",
       "  </thead>\n",
       "  <tbody>\n",
       "    <tr>\n",
       "      <th>1</th>\n",
       "      <td>23.418380</td>\n",
       "      <td>0.046538</td>\n",
       "      <td>50.763132</td>\n",
       "      <td>11.056489</td>\n",
       "      <td>2.690592</td>\n",
       "      <td>28.497919</td>\n",
       "    </tr>\n",
       "    <tr>\n",
       "      <th>2</th>\n",
       "      <td>22.515942</td>\n",
       "      <td>0.059598</td>\n",
       "      <td>42.550796</td>\n",
       "      <td>11.183642</td>\n",
       "      <td>2.739589</td>\n",
       "      <td>19.596305</td>\n",
       "    </tr>\n",
       "    <tr>\n",
       "      <th>3</th>\n",
       "      <td>22.273028</td>\n",
       "      <td>0.038749</td>\n",
       "      <td>41.256265</td>\n",
       "      <td>11.041846</td>\n",
       "      <td>2.763301</td>\n",
       "      <td>20.791372</td>\n",
       "    </tr>\n",
       "    <tr>\n",
       "      <th>4</th>\n",
       "      <td>21.891178</td>\n",
       "      <td>0.067188</td>\n",
       "      <td>34.878837</td>\n",
       "      <td>11.338730</td>\n",
       "      <td>2.843925</td>\n",
       "      <td>14.384059</td>\n",
       "    </tr>\n",
       "  </tbody>\n",
       "</table>\n",
       "</div>"
      ],
      "text/plain": [
       "              Indoor Temperature [C]  \\\n",
       "climate_zone                           \n",
       "1                          23.418380   \n",
       "2                          22.515942   \n",
       "3                          22.273028   \n",
       "4                          21.891178   \n",
       "\n",
       "              Average Unmet Cooling Setpoint Difference [C]  \\\n",
       "climate_zone                                                  \n",
       "1                                                  0.046538   \n",
       "2                                                  0.059598   \n",
       "3                                                  0.038749   \n",
       "4                                                  0.067188   \n",
       "\n",
       "              Indoor Relative Humidity [%]  Equipment Electric Power [kWh]  \\\n",
       "climate_zone                                                                 \n",
       "1                                50.763132                       11.056489   \n",
       "2                                42.550796                       11.183642   \n",
       "3                                41.256265                       11.041846   \n",
       "4                                34.878837                       11.338730   \n",
       "\n",
       "              DHW Heating [kWh]  Cooling Load [kWh]  \n",
       "climate_zone                                         \n",
       "1                      2.690592           28.497919  \n",
       "2                      2.739589           19.596305  \n",
       "3                      2.763301           20.791372  \n",
       "4                      2.843925           14.384059  "
      ]
     },
     "execution_count": 6,
     "metadata": {},
     "output_type": "execute_result"
    }
   ],
   "source": [
    "df_climate_mean"
   ]
  }
 ],
 "metadata": {
  "kernelspec": {
   "display_name": "Python 3",
   "language": "python",
   "name": "python3"
  },
  "language_info": {
   "codemirror_mode": {
    "name": "ipython",
    "version": 3
   },
   "file_extension": ".py",
   "mimetype": "text/x-python",
   "name": "python",
   "nbconvert_exporter": "python",
   "pygments_lexer": "ipython3",
   "version": "3.7.3"
  }
 },
 "nbformat": 4,
 "nbformat_minor": 4
}
